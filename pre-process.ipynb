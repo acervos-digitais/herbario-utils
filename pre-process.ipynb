{
 "cells": [
  {
   "cell_type": "markdown",
   "metadata": {},
   "source": [
    "# Pre-Process"
   ]
  },
  {
   "cell_type": "markdown",
   "metadata": {},
   "source": [
    "## Color Palette"
   ]
  },
  {
   "cell_type": "code",
   "execution_count": null,
   "metadata": {},
   "outputs": [],
   "source": [
    "import json\n",
    "\n",
    "from os import makedirs, path\n",
    "\n",
    "from PIL import Image as PImage\n",
    "\n",
    "from dominant_colors import get_dominant_colors"
   ]
  },
  {
   "cell_type": "code",
   "execution_count": null,
   "metadata": {},
   "outputs": [],
   "source": [
    "WIKI_DATA_DIR = \"./metadata/json/MuseuPaulista\"\n",
    "WIKI_INFO_PATH = path.join(WIKI_DATA_DIR, \"museu_paulista.json\")\n",
    "\n",
    "WIKI_COLOR_DIR = path.join(WIKI_DATA_DIR, \"colors\")\n",
    "makedirs(WIKI_COLOR_DIR, exist_ok=True)\n",
    "\n",
    "IMG_DIR = \"../../imgs/MuseuPaulista\"\n",
    "IMG_DIR_500 = path.join(IMG_DIR, \"500\")"
   ]
  },
  {
   "cell_type": "code",
   "execution_count": null,
   "metadata": {},
   "outputs": [],
   "source": [
    "wiki_data = {}\n",
    "\n",
    "if (path.isfile(WIKI_INFO_PATH)):\n",
    "  with open(WIKI_INFO_PATH, \"r\") as ifp:\n",
    "    wiki_data = json.load(ifp)\n",
    "\n",
    "qids = sorted(list(wiki_data.keys()))"
   ]
  },
  {
   "cell_type": "code",
   "execution_count": null,
   "metadata": {},
   "outputs": [],
   "source": [
    "for cnt,qid in enumerate(qids):\n",
    "  if cnt % 100 == 0:\n",
    "    print(cnt)\n",
    "\n",
    "  img_path = path.join(IMG_DIR_500, f\"{qid}.jpg\")\n",
    "  color_path = path.join(WIKI_COLOR_DIR, f\"{qid}.json\")\n",
    "\n",
    "  if (not path.isfile(img_path)) or path.isfile(color_path):\n",
    "    continue\n",
    "\n",
    "  img = PImage.open(img_path)\n",
    "  _, rgb_by_hls = get_dominant_colors(img)\n",
    "  palette = [[int(v) for v in c] for c in rgb_by_hls[:4]]\n",
    "\n",
    "  color_data = { qid: { \"color_palette\": palette } }\n",
    "\n",
    "  with open(color_path, \"w\", encoding=\"utf-8\") as ofp:\n",
    "    json.dump(color_data, ofp, sort_keys=True, separators=(',',':'), ensure_ascii=False)"
   ]
  },
  {
   "cell_type": "markdown",
   "metadata": {},
   "source": [
    "## Embeddings"
   ]
  },
  {
   "cell_type": "code",
   "execution_count": null,
   "metadata": {},
   "outputs": [],
   "source": [
    "import json\n",
    "\n",
    "from os import makedirs, path\n",
    "\n",
    "from PIL import Image as PImage\n",
    "\n",
    "from models.CLIP_embedding import Clip\n",
    "\n",
    "mClip = Clip()"
   ]
  },
  {
   "cell_type": "code",
   "execution_count": null,
   "metadata": {},
   "outputs": [],
   "source": [
    "WIKI_DATA_DIR = \"./metadata/json/MuseuPaulista\"\n",
    "WIKI_INFO_PATH = path.join(WIKI_DATA_DIR, \"museu_paulista.json\")\n",
    "\n",
    "WIKI_EMBED_DIR = path.join(WIKI_DATA_DIR, \"embeddings\")\n",
    "makedirs(WIKI_EMBED_DIR, exist_ok=True)\n",
    "\n",
    "IMG_DIR = \"../../imgs/MuseuPaulista\"\n",
    "IMG_DIR_500 = path.join(IMG_DIR, \"500\")"
   ]
  },
  {
   "cell_type": "code",
   "execution_count": null,
   "metadata": {},
   "outputs": [],
   "source": [
    "wiki_data = {}\n",
    "\n",
    "if (path.isfile(WIKI_INFO_PATH)):\n",
    "  with open(WIKI_INFO_PATH, \"r\") as ifp:\n",
    "    wiki_data = json.load(ifp)\n",
    "\n",
    "qids = sorted(list(wiki_data.keys()))"
   ]
  },
  {
   "cell_type": "code",
   "execution_count": null,
   "metadata": {},
   "outputs": [],
   "source": [
    "for cnt,qid in enumerate(qids):\n",
    "  if cnt % 100 == 0:\n",
    "    print(cnt)\n",
    "\n",
    "  img_path = path.join(IMG_DIR_500, f\"{qid}.jpg\")\n",
    "  embedding_path = path.join(WIKI_EMBED_DIR, f\"{qid}.json\")\n",
    "\n",
    "  if (not path.isfile(img_path)) or path.isfile(embedding_path):\n",
    "    continue\n",
    "\n",
    "  img = PImage.open(img_path)\n",
    "  clip_embedding = [round(v, 8) for v in mClip.get_embedding(img).tolist()]\n",
    "\n",
    "  embedding_data = { qid: { \"clip\": clip_embedding } }\n",
    "\n",
    "  with open(embedding_path, \"w\", encoding=\"utf-8\") as ofp:\n",
    "    json.dump(embedding_data, ofp, sort_keys=True, separators=(',',':'), ensure_ascii=False)\n"
   ]
  },
  {
   "cell_type": "markdown",
   "metadata": {},
   "source": [
    "## t-SNE"
   ]
  },
  {
   "cell_type": "code",
   "execution_count": null,
   "metadata": {},
   "outputs": [],
   "source": [
    "# Load all embeddings\n",
    "# Cluster\n",
    "\n",
    "# Save cluster distances, tsne2, tsne3, xy"
   ]
  }
 ],
 "metadata": {
  "kernelspec": {
   "display_name": "ml",
   "language": "python",
   "name": "python3"
  },
  "language_info": {
   "codemirror_mode": {
    "name": "ipython",
    "version": 3
   },
   "file_extension": ".py",
   "mimetype": "text/x-python",
   "name": "python",
   "nbconvert_exporter": "python",
   "pygments_lexer": "ipython3",
   "version": "3.10.15"
  }
 },
 "nbformat": 4,
 "nbformat_minor": 2
}
