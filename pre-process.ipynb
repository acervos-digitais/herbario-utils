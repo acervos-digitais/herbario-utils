{
 "cells": [
  {
   "cell_type": "markdown",
   "metadata": {},
   "source": [
    "# Pre-Process"
   ]
  },
  {
   "cell_type": "code",
   "execution_count": null,
   "metadata": {},
   "outputs": [],
   "source": [
    "from params.collections import MUSEUMS\n",
    "\n",
    "from Museum import Museum"
   ]
  },
  {
   "cell_type": "markdown",
   "metadata": {},
   "source": [
    "## Color Palette"
   ]
  },
  {
   "cell_type": "code",
   "execution_count": null,
   "metadata": {},
   "outputs": [],
   "source": [
    "for name,info in MUSEUMS.items():\n",
    "  print(\"color:\", name)\n",
    "  Museum.get_colors(info)"
   ]
  },
  {
   "cell_type": "markdown",
   "metadata": {},
   "source": [
    "## Embeddings"
   ]
  },
  {
   "cell_type": "code",
   "execution_count": null,
   "metadata": {},
   "outputs": [],
   "source": [
    "for name,info in MUSEUMS.items():\n",
    "  print(\"embeddings:\", name)\n",
    "  Museum.get_embeddings(info)"
   ]
  },
  {
   "cell_type": "markdown",
   "metadata": {},
   "source": [
    "## t-SNE"
   ]
  },
  {
   "cell_type": "code",
   "execution_count": null,
   "metadata": {},
   "outputs": [],
   "source": [
    "import json\n",
    "\n",
    "from os import listdir, makedirs, path\n",
    "\n",
    "from embeddings import pca_kmeans, tsne_kmeans\n",
    "from embeddings import plot_clusters, visualize_pca_clusters, visualize_tsne_clusters\n",
    "\n",
    "from params.collections import MUSEUMS"
   ]
  },
  {
   "cell_type": "code",
   "execution_count": null,
   "metadata": {},
   "outputs": [],
   "source": [
    "museum_info = MUSEUMS[\"brasiliana\"]"
   ]
  },
  {
   "cell_type": "code",
   "execution_count": null,
   "metadata": {},
   "outputs": [],
   "source": [
    "MUSEUM_DATA_DIR = f\"./metadata/json/{museum_info['dir']}\"\n",
    "MUSEUM_INFO_PATH = path.join(MUSEUM_DATA_DIR, f\"{museum_info['file']}.json\")\n",
    "\n",
    "MUSEUM_EMBED_DIR = path.join(MUSEUM_DATA_DIR, \"embeddings\")\n",
    "\n",
    "IMG_DIR = f\"../../imgs/{museum_info['dir']}\"\n",
    "IMG_DIR_500 = path.join(IMG_DIR, \"500\")"
   ]
  },
  {
   "cell_type": "code",
   "execution_count": null,
   "metadata": {},
   "outputs": [],
   "source": [
    "embeding_files = sorted([f for f in listdir(MUSEUM_EMBED_DIR) if f.endswith(\".json\")])\n",
    "\n",
    "raw_embs = []\n",
    "image_paths = []\n",
    "\n",
    "for idx, io_file in enumerate(embeding_files):\n",
    "  qid = io_file.replace(\".json\", \"\")\n",
    "  img_file = io_file.replace(\".json\", \".jpg\")\n",
    "\n",
    "  embeding_path = path.join(MUSEUM_EMBED_DIR, io_file)\n",
    "  with open(embeding_path, \"r\", encoding=\"utf8\") as f:\n",
    "    m_embs = json.load(f)\n",
    "\n",
    "  raw_embs.append(m_embs[qid][\"clip\"])\n",
    "  image_paths.append(path.join(IMG_DIR_500, img_file))"
   ]
  },
  {
   "cell_type": "code",
   "execution_count": null,
   "metadata": {},
   "outputs": [],
   "source": [
    "pca_vals, pca_clusters, pca_centers = pca_kmeans(raw_embs, n_clusters=3)\n",
    "plot_clusters(pca_clusters, pca_vals, title=\"clip pca\")"
   ]
  },
  {
   "cell_type": "code",
   "execution_count": null,
   "metadata": {},
   "outputs": [],
   "source": [
    "tsne3_vals, tsne3_clusters, tsne3_centers = tsne_kmeans(raw_embs, n_clusters=4, n_components=3)\n",
    "plot_clusters(tsne3_clusters, tsne3_vals, title=\"clip tsne 3D\")"
   ]
  },
  {
   "cell_type": "code",
   "execution_count": null,
   "metadata": {},
   "outputs": [],
   "source": [
    "tsne2_vals, tsne2_clusters, tsne2_centers = tsne_kmeans(raw_embs, n_clusters=4, n_components=2)\n",
    "plot_clusters(tsne2_clusters, tsne2_vals, title=\"clip tsne 2D\")"
   ]
  },
  {
   "cell_type": "code",
   "execution_count": null,
   "metadata": {},
   "outputs": [],
   "source": [
    "visualize_pca_clusters(raw_embs, image_paths, n_clusters=3, grid_dim=6)"
   ]
  },
  {
   "cell_type": "code",
   "execution_count": null,
   "metadata": {},
   "outputs": [],
   "source": [
    "visualize_tsne_clusters(raw_embs, image_paths, n_clusters=5, grid_dim=6)"
   ]
  }
 ],
 "metadata": {
  "kernelspec": {
   "display_name": "ml",
   "language": "python",
   "name": "python3"
  },
  "language_info": {
   "codemirror_mode": {
    "name": "ipython",
    "version": 3
   },
   "file_extension": ".py",
   "mimetype": "text/x-python",
   "name": "python",
   "nbconvert_exporter": "python",
   "pygments_lexer": "ipython3",
   "version": "3.10.15"
  }
 },
 "nbformat": 4,
 "nbformat_minor": 2
}
