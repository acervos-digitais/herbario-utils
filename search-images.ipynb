{
 "cells": [
  {
   "cell_type": "markdown",
   "metadata": {},
   "source": [
    "# Search Images by other Images"
   ]
  },
  {
   "cell_type": "code",
   "execution_count": null,
   "metadata": {},
   "outputs": [],
   "source": [
    "import json\n",
    "\n",
    "from os import makedirs, path\n",
    "from PIL import Image as PImage"
   ]
  },
  {
   "cell_type": "markdown",
   "metadata": {},
   "source": [
    "## Crop Objects from Images"
   ]
  },
  {
   "cell_type": "code",
   "execution_count": null,
   "metadata": {},
   "outputs": [],
   "source": [
    "DATA_FILE = \"./metadata/json/20250422_full.json\"\n",
    "IMGS_PATH = \"../../imgs/arts/full\"\n",
    "CROP_IMGS_PATH = \"../../imgs/arts/crops\"\n",
    "\n",
    "makedirs(CROP_IMGS_PATH, exist_ok=True)"
   ]
  },
  {
   "cell_type": "code",
   "execution_count": null,
   "metadata": {},
   "outputs": [],
   "source": [
    "with open(DATA_FILE, \"r\", encoding=\"utf8\") as f:\n",
    "  m_data = json.load(f)"
   ]
  },
  {
   "cell_type": "code",
   "execution_count": null,
   "metadata": {},
   "outputs": [],
   "source": [
    "for qid,data in m_data.items():\n",
    "  img_path = path.join(IMGS_PATH, f\"{qid}.jpg\")\n",
    "  if (not path.isfile(img_path)) or len(data[\"objects\"]) < 1:\n",
    "    continue\n",
    "\n",
    "  img = PImage.open(img_path)\n",
    "  iw,ih = img.size\n",
    "\n",
    "  for idx,obj in enumerate(data[\"objects\"]):\n",
    "    x0,y0,x1,y1 = obj[\"box\"]\n",
    "    label = obj[\"label\"]\n",
    "    img_c = img.crop((int(x0*iw), int(y0*ih), int(x1*iw), int(y1*ih)))\n",
    "    idx_str = f\"00000{idx}\"[-4:]\n",
    "    img_c.save(path.join(CROP_IMGS_PATH, f\"{qid}_{idx_str}.jpg\"))"
   ]
  },
  {
   "cell_type": "markdown",
   "metadata": {},
   "source": [
    "## Calculate Crop Embeddings"
   ]
  },
  {
   "cell_type": "code",
   "execution_count": null,
   "metadata": {},
   "outputs": [],
   "source": [
    "import json\n",
    "\n",
    "from os import listdir, makedirs, path\n",
    "from PIL import Image as PImage\n",
    "\n",
    "from models.CLIP_embedding import Clip\n",
    "from models.Owlv2 import Owlv2\n",
    "from models.SigLip2 import SigLip2"
   ]
  },
  {
   "cell_type": "code",
   "execution_count": null,
   "metadata": {},
   "outputs": [],
   "source": [
    "CROP_IMGS_PATH = \"../../imgs/arts/crops\"\n",
    "CROP_EMBED_PATH = \"./metadata/json/crops/embeddings\"\n",
    "\n",
    "makedirs(CROP_EMBED_PATH, exist_ok=True)"
   ]
  },
  {
   "cell_type": "code",
   "execution_count": null,
   "metadata": {},
   "outputs": [],
   "source": [
    "model = SigLip2()\n",
    "model_name = type(model).__name__.lower()"
   ]
  },
  {
   "cell_type": "code",
   "execution_count": null,
   "metadata": {},
   "outputs": [],
   "source": [
    "crop_fnames = sorted([fn for fn in listdir(CROP_IMGS_PATH) if fn.endswith(\".jpg\")])"
   ]
  },
  {
   "cell_type": "code",
   "execution_count": null,
   "metadata": {},
   "outputs": [],
   "source": [
    "for idx,fname in enumerate(crop_fnames):\n",
    "  qid = fname.replace(\".jpg\", \"\")\n",
    "  image_path = path.join(CROP_IMGS_PATH, fname)\n",
    "  embedding_path = path.join(CROP_EMBED_PATH, f\"{qid}.json\")\n",
    "\n",
    "  embeds = {}\n",
    "  if path.isfile(embedding_path):\n",
    "    with open(embedding_path, \"r\") as ifp:\n",
    "      embeds = json.load(ifp)[qid]\n",
    "\n",
    "  if model_name in embeds:\n",
    "    continue\n",
    "\n",
    "  img = PImage.open(image_path)\n",
    "  embeds[model_name] = [round(v, 8) for v in model.get_embedding(img).tolist()]\n",
    "  embedding_data = { qid: embeds }\n",
    "\n",
    "  with open(embedding_path, \"w\") as ofp:\n",
    "    json.dump(embedding_data, ofp, separators=(\",\",\":\"), sort_keys=True, ensure_ascii=False)"
   ]
  },
  {
   "cell_type": "markdown",
   "metadata": {},
   "source": [
    "## Search by Image"
   ]
  },
  {
   "cell_type": "code",
   "execution_count": null,
   "metadata": {},
   "outputs": [],
   "source": [
    "import json\n",
    "\n",
    "from os import listdir, makedirs, path\n",
    "\n",
    "from PIL import Image as PImage, ImageOps as PImageOps, ImageDraw as PImageDraw\n"
   ]
  },
  {
   "cell_type": "markdown",
   "metadata": {},
   "source": [
    "### Open Tree image"
   ]
  },
  {
   "cell_type": "markdown",
   "metadata": {},
   "source": [
    "## SigLip2 (embedding)\n",
    "\n",
    "Large patch 16x16:\n",
    "- https://huggingface.co/google/siglip2-large-patch16-384\n",
    "- https://huggingface.co/google/siglip2-large-patch16-512\n",
    "\n",
    "Giant 16x16:\n",
    "- https://huggingface.co/google/siglip2-giant-opt-patch16-256\n",
    "- https://huggingface.co/google/siglip2-giant-opt-patch16-384\n",
    "\n",
    "\n",
    "## Owl2 (zero-shot detection)\n",
    "- https://huggingface.co/google/owlv2-base-patch16\n",
    "- https://huggingface.co/google/owlv2-large-patch14\n",
    "- https://huggingface.co/google/owlv2-large-patch14-ensemble\n",
    "\n",
    "- [Niels' Tutorial](https://github.com/NielsRogge/Transformers-Tutorials/blob/master/OWLv2/Zero_and_one_shot_object_detection_with_OWLv2.ipynb)\n",
    "\n",
    "#### Results from experiments\n",
    "- Use larger images and smaller models"
   ]
  }
 ],
 "metadata": {
  "kernelspec": {
   "display_name": "ml",
   "language": "python",
   "name": "python3"
  },
  "language_info": {
   "codemirror_mode": {
    "name": "ipython",
    "version": 3
   },
   "file_extension": ".py",
   "mimetype": "text/x-python",
   "name": "python",
   "nbconvert_exporter": "python",
   "pygments_lexer": "ipython3",
   "version": "3.10.15"
  }
 },
 "nbformat": 4,
 "nbformat_minor": 2
}
