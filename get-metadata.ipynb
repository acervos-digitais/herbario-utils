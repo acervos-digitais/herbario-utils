{
 "cells": [
  {
   "cell_type": "markdown",
   "metadata": {},
   "source": [
    "# Download Metadat/Images\n",
    "\n",
    "De várias fontes..."
   ]
  },
  {
   "cell_type": "markdown",
   "metadata": {},
   "source": [
    "## [Museu Paulista](https://pt.wikipedia.org/wiki/Wikipédia:GLAM/Museu_Paulista)\n",
    "\n",
    "Queries:\n",
    "- negative: https://w.wiki/C$kL\n",
    "- positive: https://w.wiki/C$kK"
   ]
  },
  {
   "cell_type": "code",
   "execution_count": null,
   "metadata": {},
   "outputs": [],
   "source": [
    "import json\n",
    "\n",
    "from os import path, listdir, makedirs\n",
    "\n",
    "from wiki_utils import Wikidata\n",
    "\n",
    "from params.collections import MUSEUMS"
   ]
  },
  {
   "cell_type": "code",
   "execution_count": null,
   "metadata": {},
   "outputs": [],
   "source": [
    "wiki_museum = MUSEUMS[\"pinacoteca\"]"
   ]
  },
  {
   "cell_type": "code",
   "execution_count": null,
   "metadata": {},
   "outputs": [],
   "source": [
    "WIKI_DATA_DIR = f\"./metadata/json/{wiki_museum['dir']}\"\n",
    "WIKI_INFO_PATH = path.join(WIKI_DATA_DIR, f\"{wiki_museum['file']}.json\")\n",
    "\n",
    "makedirs(WIKI_DATA_DIR, exist_ok=True)"
   ]
  },
  {
   "cell_type": "code",
   "execution_count": null,
   "metadata": {},
   "outputs": [],
   "source": [
    "wiki_data = {}\n",
    "\n",
    "if (path.isfile(WIKI_INFO_PATH)):\n",
    "  with open(WIKI_INFO_PATH, \"r\") as ifp:\n",
    "    wiki_data = json.load(ifp)"
   ]
  },
  {
   "cell_type": "markdown",
   "metadata": {},
   "source": [
    "### Prep Metadata"
   ]
  },
  {
   "cell_type": "code",
   "execution_count": null,
   "metadata": {},
   "outputs": [],
   "source": [
    "defval = {\"value\": \"unknown\"}\n",
    "\n",
    "category = \"painting\"\n",
    "location = wiki_museum['label']\n",
    "cQuery = Wikidata.prep_category_query(category, location)\n",
    "cResults = Wikidata.run_query(cQuery)\n",
    "\n",
    "for cnt,result in enumerate(cResults):\n",
    "  if cnt % 100 == 0:\n",
    "    print(cnt)\n",
    "\n",
    "  id = result[\"qid\"][\"value\"]\n",
    "\n",
    "  cat = {\n",
    "    \"en\": result[\"cat_en\"][\"value\"],\n",
    "    \"pt\": result[\"cat_pt\"][\"value\"]\n",
    "  }\n",
    "\n",
    "  if id in wiki_data:\n",
    "    for l in [\"en\", \"pt\"]:\n",
    "      mcategories = set(wiki_data[id][\"categories\"][l])\n",
    "      mcategories.add(cat[l])\n",
    "      wiki_data[id][\"categories\"][l] = list(mcategories)\n",
    "    continue\n",
    "\n",
    "  dResultsEn = Wikidata.run_depicts_query(id, \"en\")\n",
    "  dResultsPt = Wikidata.run_depicts_query(id, \"pt\")\n",
    "\n",
    "  wiki_data[id] = {\n",
    "    \"id\": result[\"qid\"][\"value\"],\n",
    "    \"categories\": {\n",
    "      \"en\": [cat[\"en\"]],\n",
    "      \"pt\": [cat[\"pt\"]]\n",
    "    },\n",
    "    \"depicts\": {\n",
    "      \"en\": [d[\"depictsLabel\"][\"value\"] for d in dResultsEn],\n",
    "      \"pt\":[d[\"depictsLabel\"][\"value\"] for d in dResultsPt]\n",
    "    },\n",
    "    \"title\": result[\"itemLabel\"][\"value\"],\n",
    "    \"date\": result.get(\"date\", defval)[\"value\"],\n",
    "    \"creator\": result.get(\"creatorLabel\", defval)[\"value\"],\n",
    "    \"image\": result[\"image\"][\"value\"]\n",
    "  }"
   ]
  },
  {
   "cell_type": "code",
   "execution_count": null,
   "metadata": {},
   "outputs": [],
   "source": [
    "with open(WIKI_INFO_PATH, \"w\") as ofp:\n",
    "  json.dump(wiki_data, ofp, separators=(',',':'), sort_keys=True, ensure_ascii=False)"
   ]
  },
  {
   "cell_type": "markdown",
   "metadata": {},
   "source": [
    "### Download Images"
   ]
  },
  {
   "cell_type": "code",
   "execution_count": null,
   "metadata": {},
   "outputs": [],
   "source": [
    "IMG_DIR = f\"../../imgs/{wiki_museum['dir']}\"\n",
    "\n",
    "IMG_DIR_FULL = path.join(IMG_DIR, \"full\")\n",
    "IMG_DIR_900 = path.join(IMG_DIR, \"900\")\n",
    "IMG_DIR_500 = path.join(IMG_DIR, \"500\")\n",
    "\n",
    "makedirs(IMG_DIR_FULL, exist_ok=True)\n",
    "makedirs(IMG_DIR_900, exist_ok=True)\n",
    "makedirs(IMG_DIR_500, exist_ok=True)"
   ]
  },
  {
   "cell_type": "code",
   "execution_count": null,
   "metadata": {},
   "outputs": [],
   "source": [
    "wiki_data = {}\n",
    "\n",
    "if (path.isfile(WIKI_INFO_PATH)):\n",
    "  with open(WIKI_INFO_PATH, \"r\") as ifp:\n",
    "    wiki_data = json.load(ifp)"
   ]
  },
  {
   "cell_type": "code",
   "execution_count": null,
   "metadata": {},
   "outputs": [],
   "source": [
    "for cnt, (qid, info) in enumerate(wiki_data.items()):\n",
    "  if cnt % 100 == 0:\n",
    "    print(cnt)\n",
    "\n",
    "  img_path_full = path.join(IMG_DIR_FULL, f\"{qid}.jpg\")\n",
    "  img_path_900 = path.join(IMG_DIR_900, f\"{qid}.jpg\")\n",
    "  img_path_500 = path.join(IMG_DIR_500, f\"{qid}.jpg\")\n",
    "  img_url = info[\"image\"]\n",
    "\n",
    "  if (not path.isfile(img_path_full)) or (not path.isfile(img_path_900)) or (not path.isfile(img_path_500)):\n",
    "    try:\n",
    "      pimg = Wikidata.download_image(img_url)\n",
    "    except Exception as e:\n",
    "      print(qid)\n",
    "      print(img_url)\n",
    "      print(e)\n",
    "      continue\n",
    "\n",
    "  if (not path.isfile(img_path_full)):\n",
    "    pimg.thumbnail([4096, 4096])\n",
    "    pimg.save(img_path_full)\n",
    "\n",
    "  if (not path.isfile(img_path_900)):\n",
    "    pimg.thumbnail([900, 900])\n",
    "    pimg.save(img_path_900)\n",
    "\n",
    "  if (not path.isfile(img_path_500)):\n",
    "    pimg.thumbnail([500, 500])\n",
    "    pimg.save(img_path_500)"
   ]
  },
  {
   "cell_type": "markdown",
   "metadata": {},
   "source": [
    "## [Brasiliana Museus](https://brasiliana.museus.gov.br/)\n",
    "\n",
    "Queries:\n",
    "- [pinturas](https://brasiliana.museus.gov.br/classificacao/02-artes-visuais-cinematografica-02-6-pintura/?perpage=96&view_mode=masonry&paged=1&order=ASC&orderby=date&fetch_only_meta=&fetch_only=thumbnail%2Ccreation_date%2Ctitle%2Cdescription&taxquery%5B0%5D%5Btaxonomy%5D=tnc_tax_27&taxquery%5B0%5D%5Bterms%5D%5B0%5D=1076&taxquery%5B0%5D%5Bcompare%5D=IN)"
   ]
  },
  {
   "cell_type": "code",
   "execution_count": null,
   "metadata": {},
   "outputs": [],
   "source": [
    "import json\n",
    "\n",
    "from os import path, listdir, makedirs\n",
    "\n",
    "from brasiliana_utils import Brasiliana\n",
    "\n",
    "from models.EnPt import PtEn\n",
    "\n",
    "from params.collections import MUSEUMS"
   ]
  },
  {
   "cell_type": "code",
   "execution_count": null,
   "metadata": {},
   "outputs": [],
   "source": [
    "museum_info = MUSEUMS[\"brasiliana\"]"
   ]
  },
  {
   "cell_type": "code",
   "execution_count": null,
   "metadata": {},
   "outputs": [],
   "source": [
    "MUSEUM_DATA_DIR = f\"./metadata/json/{museum_info['dir']}\"\n",
    "MUSEUM_INFO_PATH = path.join(MUSEUM_DATA_DIR, f\"{museum_info['file']}.json\")\n",
    "\n",
    "makedirs(MUSEUM_DATA_DIR, exist_ok=True)"
   ]
  },
  {
   "cell_type": "code",
   "execution_count": null,
   "metadata": {},
   "outputs": [],
   "source": [
    "museum_data = {}\n",
    "\n",
    "if (path.isfile(MUSEUM_INFO_PATH)):\n",
    "  with open(MUSEUM_INFO_PATH, \"r\") as ifp:\n",
    "    museum_data = json.load(ifp)"
   ]
  },
  {
   "cell_type": "markdown",
   "metadata": {},
   "source": [
    "### Prep Metadata"
   ]
  },
  {
   "cell_type": "code",
   "execution_count": null,
   "metadata": {},
   "outputs": [],
   "source": [
    "category = \"painting\"\n",
    "qResults = Brasiliana.run_category_query(category)"
   ]
  },
  {
   "cell_type": "code",
   "execution_count": null,
   "metadata": {},
   "outputs": [],
   "source": [
    "for cnt,result in enumerate(qResults):\n",
    "  if cnt % 100 == 0:\n",
    "    print(cnt)\n",
    "\n",
    "  id = result[\"id\"]\n",
    "\n",
    "  item_data = {\n",
    "    \"id\": result[\"id\"],\n",
    "    \"image\": result[\"document\"][\"value\"]\n",
    "  }\n",
    "\n",
    "  for k,v in Brasiliana.ITEM_DATA_FIELDS.items():\n",
    "    item_data[k] = result[\"data\"][v][\"value\"]\n",
    "    if v in Brasiliana.FIELDS_TO_TRANSLATE:\n",
    "      if len(item_data[k][\"pt\"]) > 0:\n",
    "        item_data[k][\"en\"] = PtEn.translate(item_data[k][\"pt\"])\n",
    "\n",
    "  museum_data[id] = museum_data.get(id, {}) | item_data"
   ]
  },
  {
   "cell_type": "code",
   "execution_count": null,
   "metadata": {},
   "outputs": [],
   "source": [
    "with open(MUSEUM_INFO_PATH, \"w\") as ofp:\n",
    "  json.dump(museum_data, ofp, separators=(',',':'), sort_keys=True, ensure_ascii=False)"
   ]
  },
  {
   "cell_type": "markdown",
   "metadata": {},
   "source": [
    "### Download Images"
   ]
  },
  {
   "cell_type": "code",
   "execution_count": null,
   "metadata": {},
   "outputs": [],
   "source": [
    "IMG_DIR = f\"../../imgs/{museum_info['dir']}\"\n",
    "\n",
    "IMG_DIR_FULL = path.join(IMG_DIR, \"full\")\n",
    "IMG_DIR_900 = path.join(IMG_DIR, \"900\")\n",
    "IMG_DIR_500 = path.join(IMG_DIR, \"500\")\n",
    "\n",
    "makedirs(IMG_DIR_FULL, exist_ok=True)\n",
    "makedirs(IMG_DIR_900, exist_ok=True)\n",
    "makedirs(IMG_DIR_500, exist_ok=True)"
   ]
  },
  {
   "cell_type": "code",
   "execution_count": null,
   "metadata": {},
   "outputs": [],
   "source": [
    "museum_data = {}\n",
    "\n",
    "if (path.isfile(MUSEUM_INFO_PATH)):\n",
    "  with open(MUSEUM_INFO_PATH, \"r\") as ifp:\n",
    "    museum_data = json.load(ifp)"
   ]
  },
  {
   "cell_type": "code",
   "execution_count": null,
   "metadata": {},
   "outputs": [],
   "source": [
    "for cnt, (qid, info) in enumerate(museum_data.items()):\n",
    "  if cnt % 100 == 0:\n",
    "    print(cnt)\n",
    "\n",
    "  img_path_full = path.join(IMG_DIR_FULL, f\"{qid}.jpg\")\n",
    "  img_path_900 = path.join(IMG_DIR_900, f\"{qid}.jpg\")\n",
    "  img_path_500 = path.join(IMG_DIR_500, f\"{qid}.jpg\")\n",
    "  img_url = info[\"image\"]\n",
    "\n",
    "  if (not path.isfile(img_path_full)) or (not path.isfile(img_path_900)) or (not path.isfile(img_path_500)):\n",
    "    try:\n",
    "      pimg = Brasiliana.download_image(img_url)\n",
    "    except Exception as e:\n",
    "      print(qid)\n",
    "      print(img_url)\n",
    "      print(e)\n",
    "      continue\n",
    "\n",
    "  if (not path.isfile(img_path_full)):\n",
    "    pimg.thumbnail([4096, 4096])\n",
    "    pimg.save(img_path_full)\n",
    "\n",
    "  if (not path.isfile(img_path_900)):\n",
    "    pimg.thumbnail([900, 900])\n",
    "    pimg.save(img_path_900)\n",
    "\n",
    "  if (not path.isfile(img_path_500)):\n",
    "    pimg.thumbnail([500, 500])\n",
    "    pimg.save(img_path_500)"
   ]
  }
 ],
 "metadata": {
  "kernelspec": {
   "display_name": "ml",
   "language": "python",
   "name": "python3"
  },
  "language_info": {
   "codemirror_mode": {
    "name": "ipython",
    "version": 3
   },
   "file_extension": ".py",
   "mimetype": "text/x-python",
   "name": "python",
   "nbconvert_exporter": "python",
   "pygments_lexer": "ipython3",
   "version": "3.10.15"
  }
 },
 "nbformat": 4,
 "nbformat_minor": 2
}
