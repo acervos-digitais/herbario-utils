{
 "cells": [
  {
   "cell_type": "markdown",
   "metadata": {},
   "source": [
    "## Object Detection"
   ]
  },
  {
   "cell_type": "markdown",
   "metadata": {},
   "source": [
    "\n",
    "## Owl2\n",
    "- https://huggingface.co/google/owlv2-base-patch16\n",
    "- https://huggingface.co/google/owlv2-large-patch14\n",
    "- https://huggingface.co/google/owlv2-large-patch14-ensemble\n",
    "\n",
    "#### Results from experiments\n",
    "- Use larger images and smaller models"
   ]
  },
  {
   "cell_type": "code",
   "execution_count": null,
   "metadata": {},
   "outputs": [],
   "source": [
    "import json\n",
    "\n",
    "from os import listdir, makedirs, path\n",
    "\n",
    "from PIL import Image as PImage, ImageOps as PImageOps, ImageDraw as PImageDraw\n",
    "\n",
    "from params.detect import OBJS_LABELS_IN as OBJS_LABELS, OBJS_THOLDS\n",
    "from models.Owlv2 import Owlv2"
   ]
  },
  {
   "cell_type": "code",
   "execution_count": null,
   "metadata": {},
   "outputs": [],
   "source": [
    "WIKI_DATA_DIR = \"./metadata/json/MuseuPaulista\"\n",
    "WIKI_INFO_PATH = path.join(WIKI_DATA_DIR, \"museu_paulista.json\")\n",
    "\n",
    "WIKI_OBJECT_DIR = path.join(WIKI_DATA_DIR, \"objects\")\n",
    "makedirs(WIKI_OBJECT_DIR, exist_ok=True)\n",
    "\n",
    "IMG_DIR = \"../../imgs/MuseuPaulista\"\n",
    "IMG_DIR_500 = path.join(IMG_DIR, \"500\")\n",
    "IMG_DIR_900 = path.join(IMG_DIR, \"900\")"
   ]
  },
  {
   "cell_type": "code",
   "execution_count": null,
   "metadata": {},
   "outputs": [],
   "source": [
    "wiki_data = {}\n",
    "\n",
    "if (path.isfile(WIKI_INFO_PATH)):\n",
    "  with open(WIKI_INFO_PATH, \"r\") as ifp:\n",
    "    wiki_data = json.load(ifp)\n",
    "\n",
    "qids = sorted(list(wiki_data.keys()))"
   ]
  },
  {
   "cell_type": "code",
   "execution_count": null,
   "metadata": {},
   "outputs": [],
   "source": [
    "owl = Owlv2(\"google/owlv2-base-patch16\")"
   ]
  },
  {
   "cell_type": "code",
   "execution_count": null,
   "metadata": {},
   "outputs": [],
   "source": [
    "for cnt,qid in enumerate(qids[:10]):\n",
    "  if cnt % 100 == 0:\n",
    "    print(cnt)\n",
    "\n",
    "  input_file_path = path.join(IMG_DIR_900, f\"{qid}.jpg\")\n",
    "  output_file_path = path.join(WIKI_OBJECT_DIR, f\"{qid}.json\")\n",
    "\n",
    "  if path.isfile(output_file_path):\n",
    "    continue\n",
    "\n",
    "  image = PImageOps.exif_transpose(PImage.open(input_file_path).convert(\"RGB\"))\n",
    "\n",
    "  image_boxes = []\n",
    "  for labels,tholds in zip(OBJS_LABELS, OBJS_THOLDS):\n",
    "    obj_boxes = owl.all_objects(image, labels, tholds)\n",
    "    image_boxes += obj_boxes\n",
    "\n",
    "  with open(output_file_path, \"w\", encoding=\"utf-8\") as of:\n",
    "    json.dump(image_boxes, of, sort_keys=True, separators=(',',':'), ensure_ascii=False)"
   ]
  },
  {
   "cell_type": "markdown",
   "metadata": {},
   "source": [
    "### Visualize"
   ]
  },
  {
   "cell_type": "code",
   "execution_count": null,
   "metadata": {},
   "outputs": [],
   "source": [
    "obj_files = sorted([f for f in listdir(WIKI_OBJECT_DIR) if f.endswith(\".json\")])"
   ]
  },
  {
   "cell_type": "code",
   "execution_count": null,
   "metadata": {},
   "outputs": [],
   "source": [
    "for fname in obj_files:\n",
    "  with open(path.join(WIKI_OBJECT_DIR, fname), \"r\") as inp:\n",
    "    iboxes = json.load(inp)\n",
    "\n",
    "  if len(iboxes) < 1:\n",
    "    continue\n",
    "\n",
    "  image_file_path = path.join(IMG_DIR_900, fname.replace(\".json\", \".jpg\"))\n",
    "  image = PImageOps.exif_transpose(PImage.open(image_file_path).convert(\"RGB\"))\n",
    "  iw,ih = image.size\n",
    "  draw = PImageDraw.Draw(image)\n",
    "\n",
    "  for box in iboxes:\n",
    "    label, (x0,y0,x1,y1) = box[\"label\"], box[\"box\"]\n",
    "    draw.rectangle(((x0*iw, y0*ih), (x1*iw, y1*ih)), outline=(255, 0, 0), width=2)\n",
    "\n",
    "  display(image)"
   ]
  },
  {
   "cell_type": "markdown",
   "metadata": {},
   "source": [
    "## SigLip2\n",
    "\n",
    "Large patch 16x16:\n",
    "- https://huggingface.co/google/siglip2-large-patch16-384\n",
    "- https://huggingface.co/google/siglip2-large-patch16-512\n",
    "\n",
    "Giant 16x16:\n",
    "- https://huggingface.co/google/siglip2-giant-opt-patch16-256\n",
    "- https://huggingface.co/google/siglip2-giant-opt-patch16-384\n",
    "\n",
    "\n"
   ]
  }
 ],
 "metadata": {
  "kernelspec": {
   "display_name": "ml",
   "language": "python",
   "name": "python3"
  },
  "language_info": {
   "codemirror_mode": {
    "name": "ipython",
    "version": 3
   },
   "file_extension": ".py",
   "mimetype": "text/x-python",
   "name": "python",
   "nbconvert_exporter": "python",
   "pygments_lexer": "ipython3",
   "version": "3.10.15"
  }
 },
 "nbformat": 4,
 "nbformat_minor": 2
}
