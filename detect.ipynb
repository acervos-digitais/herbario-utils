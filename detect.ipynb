{
 "cells": [
  {
   "cell_type": "markdown",
   "metadata": {},
   "source": [
    "## Object Detection"
   ]
  },
  {
   "cell_type": "markdown",
   "metadata": {},
   "source": [
    "\n",
    "## Owl2\n",
    "- https://huggingface.co/google/owlv2-base-patch16\n",
    "- https://huggingface.co/google/owlv2-large-patch14\n",
    "- https://huggingface.co/google/owlv2-large-patch14-ensemble\n",
    "\n",
    "#### Results from experiments\n",
    "- Use larger images and smaller models"
   ]
  },
  {
   "cell_type": "code",
   "execution_count": null,
   "metadata": {},
   "outputs": [],
   "source": [
    "import json\n",
    "\n",
    "from os import listdir, makedirs, path\n",
    "\n",
    "from PIL import Image as PImage, ImageOps as PImageOps, ImageDraw as PImageDraw\n",
    "\n",
    "from models.Owlv2 import Owlv2\n",
    "\n",
    "from params.detect import OBJS_LABELS_IN as OBJS_LABELS, OBJS_THOLDS\n",
    "from params.wiki import MUSEUMS"
   ]
  },
  {
   "cell_type": "code",
   "execution_count": null,
   "metadata": {},
   "outputs": [],
   "source": [
    "wiki_museum = MUSEUMS[\"pinacoteca\"]"
   ]
  },
  {
   "cell_type": "code",
   "execution_count": null,
   "metadata": {},
   "outputs": [],
   "source": [
    "WIKI_DATA_DIR = f\"./metadata/json/{wiki_museum['dir']}\"\n",
    "WIKI_INFO_PATH = path.join(WIKI_DATA_DIR, f\"{wiki_museum['file']}.json\")\n",
    "\n",
    "WIKI_OBJECT_DIR = path.join(WIKI_DATA_DIR, \"objects\")\n",
    "makedirs(WIKI_OBJECT_DIR, exist_ok=True)\n",
    "\n",
    "IMG_DIR = f\"../../imgs/{wiki_museum['dir']}\"\n",
    "IMG_DIR_500 = path.join(IMG_DIR, \"500\")\n",
    "IMG_DIR_900 = path.join(IMG_DIR, \"900\")"
   ]
  },
  {
   "cell_type": "code",
   "execution_count": null,
   "metadata": {},
   "outputs": [],
   "source": [
    "wiki_data = {}\n",
    "\n",
    "if (path.isfile(WIKI_INFO_PATH)):\n",
    "  with open(WIKI_INFO_PATH, \"r\") as ifp:\n",
    "    wiki_data = json.load(ifp)\n",
    "\n",
    "qids = sorted(list(wiki_data.keys()))"
   ]
  },
  {
   "cell_type": "code",
   "execution_count": null,
   "metadata": {},
   "outputs": [],
   "source": [
    "owl = Owlv2(\"google/owlv2-base-patch16\")"
   ]
  },
  {
   "cell_type": "code",
   "execution_count": null,
   "metadata": {},
   "outputs": [],
   "source": [
    "for cnt,qid in enumerate(qids):\n",
    "  if cnt % 100 == 0:\n",
    "    print(cnt)\n",
    "\n",
    "  input_file_path = path.join(IMG_DIR_900, f\"{qid}.jpg\")\n",
    "  output_file_path = path.join(WIKI_OBJECT_DIR, f\"{qid}.json\")\n",
    "\n",
    "  if path.isfile(output_file_path):\n",
    "    continue\n",
    "\n",
    "  image = PImageOps.exif_transpose(PImage.open(input_file_path).convert(\"RGB\"))\n",
    "\n",
    "  image_boxes = []\n",
    "  for labels,tholds in zip(OBJS_LABELS, OBJS_THOLDS):\n",
    "    obj_boxes = owl.all_objects(image, labels, tholds)\n",
    "    image_boxes += obj_boxes\n",
    "\n",
    "  with open(output_file_path, \"w\", encoding=\"utf-8\") as of:\n",
    "    json.dump(image_boxes, of, sort_keys=True, separators=(',',':'), ensure_ascii=False)"
   ]
  },
  {
   "cell_type": "markdown",
   "metadata": {},
   "source": [
    "### Visualize"
   ]
  },
  {
   "cell_type": "code",
   "execution_count": null,
   "metadata": {},
   "outputs": [],
   "source": [
    "obj_files = sorted([f for f in listdir(WIKI_OBJECT_DIR) if f.endswith(\".json\")])"
   ]
  },
  {
   "cell_type": "code",
   "execution_count": null,
   "metadata": {},
   "outputs": [],
   "source": [
    "for fname in obj_files:\n",
    "  with open(path.join(WIKI_OBJECT_DIR, fname), \"r\") as inp:\n",
    "    iboxes = json.load(inp)\n",
    "\n",
    "  if len(iboxes) < 1:\n",
    "    continue\n",
    "\n",
    "  image_file_path = path.join(IMG_DIR_900, fname.replace(\".json\", \".jpg\"))\n",
    "  image = PImageOps.exif_transpose(PImage.open(image_file_path).convert(\"RGB\"))\n",
    "  iw,ih = image.size\n",
    "  draw = PImageDraw.Draw(image)\n",
    "\n",
    "  for box in iboxes:\n",
    "    label, (x0,y0,x1,y1) = box[\"label\"], box[\"box\"]\n",
    "    draw.rectangle(((x0*iw, y0*ih), (x1*iw, y1*ih)), outline=(255, 0, 0), width=2)\n",
    "\n",
    "  display(image)"
   ]
  },
  {
   "cell_type": "markdown",
   "metadata": {},
   "source": [
    "### Mosaic"
   ]
  },
  {
   "cell_type": "code",
   "execution_count": null,
   "metadata": {},
   "outputs": [],
   "source": [
    "IMG_DIR = f\"../../imgs/{wiki_museum['dir']}\"\n",
    "IMG_DIR_500 = path.join(IMG_DIR, \"500\")\n",
    "IMG_DIR_900 = path.join(IMG_DIR, \"900\")\n",
    "IMG_DIR_FULL = path.join(IMG_DIR, \"full\")\n",
    "\n",
    "IMG_DIR_FLORA = path.join(IMG_DIR, \"flora-mosaic\")\n",
    "makedirs(IMG_DIR_FLORA, exist_ok=True)"
   ]
  },
  {
   "cell_type": "code",
   "execution_count": null,
   "metadata": {},
   "outputs": [],
   "source": [
    "obj_files = sorted([f for f in listdir(WIKI_OBJECT_DIR) if f.endswith(\".json\")])"
   ]
  },
  {
   "cell_type": "code",
   "execution_count": null,
   "metadata": {},
   "outputs": [],
   "source": [
    "MAX_HEIGHT = 100\n",
    "\n",
    "total_width = 0\n",
    "\n",
    "for fname in obj_files:\n",
    "  with open(path.join(WIKI_OBJECT_DIR, fname), \"r\") as inp:\n",
    "    iboxes = json.load(inp)\n",
    "\n",
    "  if len(iboxes) < 1:\n",
    "    continue\n",
    "\n",
    "  image_file_path = path.join(IMG_DIR_FULL, fname.replace(\".json\", \".jpg\"))\n",
    "  image = PImageOps.exif_transpose(PImage.open(image_file_path).convert(\"RGB\"))\n",
    "  iw,ih = image.size\n",
    "\n",
    "  for bidx,box in enumerate(iboxes):\n",
    "    (x0,y0,x1,y1) = box[\"box\"]\n",
    "    bimg = image.crop((x0*iw, y0*ih, x1*iw, y1*ih))\n",
    "    biw, bih = bimg.size\n",
    "    if bih > MAX_HEIGHT:\n",
    "      bimg = bimg.resize((int(biw * MAX_HEIGHT / bih), MAX_HEIGHT))\n",
    "    \n",
    "    bifname = f\"{fname.replace('.json', '')}_{('0000'+str(bidx))[-3:]}.jpg\"\n",
    "    bimg.save(path.join(IMG_DIR_FLORA, bifname))\n",
    "    \n",
    "    total_width += bimg.size[0]\n",
    "\n",
    "print(total_width)"
   ]
  },
  {
   "cell_type": "markdown",
   "metadata": {},
   "source": [
    "### Create Mosaic"
   ]
  },
  {
   "cell_type": "code",
   "execution_count": null,
   "metadata": {},
   "outputs": [],
   "source": [
    "import numpy as np"
   ]
  },
  {
   "cell_type": "code",
   "execution_count": null,
   "metadata": {},
   "outputs": [],
   "source": [
    "MAX_HEIGHT = 100\n",
    "total_width = 218903\n",
    "F2x1 = 2.15\n",
    "\n",
    "total_pxs = total_width * MAX_HEIGHT\n",
    "print(total_pxs)\n",
    "\n",
    "mdim_1x1 = round(total_pxs ** 0.5)\n",
    "mdim_2x1 = round((total_pxs/F2x1)**0.5)\n",
    "\n",
    "print(mdim_1x1, \"->\", mdim_1x1*mdim_1x1)\n",
    "print(mdim_2x1, \"->\", F2x1*mdim_2x1*mdim_2x1)"
   ]
  },
  {
   "cell_type": "code",
   "execution_count": null,
   "metadata": {},
   "outputs": [],
   "source": [
    "IMG_SIZES = {\n",
    "  \"1x1\": (4680, 4680),\n",
    "  \"2x1\": (3190, int(F2x1*3190))\n",
    "}"
   ]
  },
  {
   "cell_type": "code",
   "execution_count": null,
   "metadata": {},
   "outputs": [],
   "source": [
    "flora_files = sorted([f for f in listdir(IMG_DIR_FLORA) if f.startswith(\"Q\") and f.endswith(\".jpg\")])\n",
    "print(len(flora_files))"
   ]
  },
  {
   "cell_type": "code",
   "execution_count": null,
   "metadata": {},
   "outputs": [],
   "source": [
    "MIN_WIDTH_F = 0.98\n",
    "\n",
    "for size_tag,mimg_size in IMG_SIZES.items():\n",
    "  cx,cy = 0,0\n",
    "  mimg = PImage.fromarray(np.zeros(mimg_size)).convert(\"RGB\")\n",
    "  miw, mih = mimg.size\n",
    "\n",
    "  for fname in flora_files:\n",
    "    fimg = PImage.open(path.join(IMG_DIR_FLORA, fname))\n",
    "    fiw, fih = fimg.size\n",
    "\n",
    "    if (cx+fiw) > miw and (cx > MIN_WIDTH_F*miw):\n",
    "      cx = 0\n",
    "      cy += MAX_HEIGHT\n",
    "    if cy >= mih:\n",
    "      print(\"breaking\")\n",
    "      break\n",
    "\n",
    "    mimg.paste(fimg, (cx,cy))\n",
    "    cx += fiw\n",
    "\n",
    "  mimg = mimg.crop((0, 0, int(MIN_WIDTH_F*miw), cy))\n",
    "  mimg.save(path.join(IMG_DIR_FLORA, f\"flora_{size_tag}.jpg\"))"
   ]
  },
  {
   "cell_type": "markdown",
   "metadata": {},
   "source": [
    "## SigLip2\n",
    "\n",
    "For embedding\n",
    "\n",
    "Large patch 16x16:\n",
    "- https://huggingface.co/google/siglip2-large-patch16-384\n",
    "- https://huggingface.co/google/siglip2-large-patch16-512\n",
    "\n",
    "Giant 16x16:\n",
    "- https://huggingface.co/google/siglip2-giant-opt-patch16-256\n",
    "- https://huggingface.co/google/siglip2-giant-opt-patch16-384\n",
    "\n",
    "\n"
   ]
  }
 ],
 "metadata": {
  "kernelspec": {
   "display_name": "ml",
   "language": "python",
   "name": "python3"
  },
  "language_info": {
   "codemirror_mode": {
    "name": "ipython",
    "version": 3
   },
   "file_extension": ".py",
   "mimetype": "text/x-python",
   "name": "python",
   "nbconvert_exporter": "python",
   "pygments_lexer": "ipython3",
   "version": "3.10.15"
  }
 },
 "nbformat": 4,
 "nbformat_minor": 2
}
