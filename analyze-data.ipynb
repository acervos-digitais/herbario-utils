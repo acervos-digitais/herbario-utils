{
 "cells": [
  {
   "cell_type": "markdown",
   "metadata": {},
   "source": [
    "# Analyze Data\n",
    "- t-SNE/PCA embedding clustering\n",
    "- Object detection visualization"
   ]
  },
  {
   "cell_type": "code",
   "execution_count": null,
   "metadata": {},
   "outputs": [],
   "source": [
    "import json\n",
    "\n",
    "from os import listdir, path\n",
    "\n",
    "from embeddings import pca_kmeans, tsne_kmeans\n",
    "from embeddings import plot_clusters, visualize_pca_clusters, visualize_tsne_clusters\n",
    "\n",
    "from params.collections import MUSEUMS\n",
    "from Museum import Museum"
   ]
  },
  {
   "cell_type": "markdown",
   "metadata": {},
   "source": [
    "### t-SNE: by museum"
   ]
  },
  {
   "cell_type": "code",
   "execution_count": null,
   "metadata": {},
   "outputs": [],
   "source": [
    "museum_info = MUSEUMS[\"brasiliana\"]\n",
    "Museum.prep_dirs(museum_info)"
   ]
  },
  {
   "cell_type": "code",
   "execution_count": null,
   "metadata": {},
   "outputs": [],
   "source": [
    "embeding_files = sorted([f for f in listdir(Museum.DIRS[\"embeddings\"]) if f.endswith(\".json\")])\n",
    "\n",
    "raw_embs = []\n",
    "image_paths = []\n",
    "\n",
    "for idx, io_file in enumerate(embeding_files):\n",
    "  qid = io_file.replace(\".json\", \"\")\n",
    "  img_file = io_file.replace(\".json\", \".jpg\")\n",
    "\n",
    "  embeding_path = path.join(Museum.DIRS[\"embeddings\"], io_file)\n",
    "  with open(embeding_path, \"r\", encoding=\"utf8\") as f:\n",
    "    m_embs = json.load(f)\n",
    "\n",
    "  raw_embs.append(m_embs[qid][\"clip\"])\n",
    "  image_paths.append(path.join(Museum.IMGS[\"500\"], img_file))"
   ]
  },
  {
   "cell_type": "code",
   "execution_count": null,
   "metadata": {},
   "outputs": [],
   "source": [
    "pca_vals, pca_clusters, pca_centers = pca_kmeans(raw_embs, n_clusters=4)\n",
    "plot_clusters(pca_clusters, pca_vals, title=\"clip pca\")"
   ]
  },
  {
   "cell_type": "code",
   "execution_count": null,
   "metadata": {},
   "outputs": [],
   "source": [
    "visualize_pca_clusters(raw_embs, image_paths, n_clusters=4, grid_dim=6)"
   ]
  },
  {
   "cell_type": "code",
   "execution_count": null,
   "metadata": {},
   "outputs": [],
   "source": [
    "tsne3_vals, tsne3_clusters, tsne3_centers = tsne_kmeans(raw_embs, n_clusters=4, n_components=3)\n",
    "plot_clusters(tsne3_clusters, tsne3_vals, title=\"clip tsne 3D\")"
   ]
  },
  {
   "cell_type": "code",
   "execution_count": null,
   "metadata": {},
   "outputs": [],
   "source": [
    "tsne2_vals, tsne2_clusters, tsne2_centers = tsne_kmeans(raw_embs, n_clusters=4, n_components=2)\n",
    "plot_clusters(tsne2_clusters, tsne2_vals, title=\"clip tsne 2D\")"
   ]
  },
  {
   "cell_type": "code",
   "execution_count": null,
   "metadata": {},
   "outputs": [],
   "source": [
    "visualize_tsne_clusters(raw_embs, image_paths, n_clusters=4, grid_dim=6)"
   ]
  },
  {
   "cell_type": "markdown",
   "metadata": {},
   "source": [
    "### t-SNE: aggregate"
   ]
  },
  {
   "cell_type": "code",
   "execution_count": null,
   "metadata": {},
   "outputs": [],
   "source": [
    "import os, fnmatch\n",
    "\n",
    "def find_file(pattern, path):\n",
    "  for root, _, files in os.walk(path):\n",
    "    for name in files:\n",
    "      fpath = os.path.join(root, name)\n",
    "      if fnmatch.fnmatch(fpath, pattern):\n",
    "        return fpath\n",
    "  return False"
   ]
  },
  {
   "cell_type": "code",
   "execution_count": null,
   "metadata": {},
   "outputs": [],
   "source": [
    "DATA_FILE = \"./metadata/json/20250422_full.json\"\n",
    "IMGS_PATH = \"../../imgs/arts\"\n",
    "\n",
    "with open(DATA_FILE, \"r\", encoding=\"utf8\") as f:\n",
    "  m_data = json.load(f)\n",
    "\n",
    "raw_embs = []\n",
    "image_paths = []\n",
    "\n",
    "for qid,data in m_data.items():\n",
    "  img_path = find_file(f\"*/500/{qid}.jpg\", IMGS_PATH)\n",
    "  # img_path = path.join(IMGS_PATH, f\"{qid}.jpg\")\n",
    "  if img_path:\n",
    "    raw_embs.append(data[\"clip\"])\n",
    "    image_paths.append(img_path)"
   ]
  },
  {
   "cell_type": "code",
   "execution_count": null,
   "metadata": {},
   "outputs": [],
   "source": [
    "visualize_tsne_clusters(raw_embs, image_paths, n_clusters=8, grid_dim=6)"
   ]
  },
  {
   "cell_type": "markdown",
   "metadata": {},
   "source": [
    "## Visualize Objects"
   ]
  },
  {
   "cell_type": "code",
   "execution_count": null,
   "metadata": {},
   "outputs": [],
   "source": [
    "import json\n",
    "\n",
    "from os import listdir, makedirs, path\n",
    "\n",
    "from PIL import Image as PImage, ImageOps as PImageOps, ImageDraw as PImageDraw\n",
    "\n",
    "from params.collections import MUSEUMS\n",
    "from Museum import Museum"
   ]
  },
  {
   "cell_type": "markdown",
   "metadata": {},
   "source": [
    "### Visualize Boxes"
   ]
  },
  {
   "cell_type": "code",
   "execution_count": null,
   "metadata": {},
   "outputs": [],
   "source": [
    "museum_info = MUSEUMS[\"brasiliana\"]\n",
    "Museum.prep_dirs(museum_info)"
   ]
  },
  {
   "cell_type": "code",
   "execution_count": null,
   "metadata": {},
   "outputs": [],
   "source": [
    "obj_files = sorted([f for f in listdir(Museum.DIRS[\"objects\"]) if f.endswith(\".json\")])"
   ]
  },
  {
   "cell_type": "code",
   "execution_count": null,
   "metadata": {},
   "outputs": [],
   "source": [
    "for fname in obj_files:\n",
    "  with open(path.join(Museum.DIRS[\"objects\"], fname), \"r\") as inp:\n",
    "    iboxes = json.load(inp)\n",
    "\n",
    "  if len(iboxes) < 1:\n",
    "    continue\n",
    "\n",
    "  image_file_path = path.join(Museum.IMGS[\"900\"], fname.replace(\".json\", \".jpg\"))\n",
    "  image = PImageOps.exif_transpose(PImage.open(image_file_path).convert(\"RGB\"))\n",
    "  iw,ih = image.size\n",
    "  draw = PImageDraw.Draw(image)\n",
    "\n",
    "  for box in iboxes:\n",
    "    label, (x0,y0,x1,y1) = box[\"label\"], box[\"box\"]\n",
    "    draw.rectangle(((x0*iw, y0*ih), (x1*iw, y1*ih)), outline=(255, 0, 0), width=2)\n",
    "\n",
    "  display(image)"
   ]
  },
  {
   "cell_type": "markdown",
   "metadata": {},
   "source": [
    "### Create Mosaic Images"
   ]
  },
  {
   "cell_type": "code",
   "execution_count": null,
   "metadata": {},
   "outputs": [],
   "source": [
    "museum_info = MUSEUMS[\"brasiliana\"]\n",
    "Museum.prep_dirs(museum_info)"
   ]
  },
  {
   "cell_type": "code",
   "execution_count": null,
   "metadata": {},
   "outputs": [],
   "source": [
    "IMG_DIR_FLORA = path.join(Museum.DIRS[\"imgs\"], \"flora-mosaic\")\n",
    "makedirs(IMG_DIR_FLORA, exist_ok=True)"
   ]
  },
  {
   "cell_type": "code",
   "execution_count": null,
   "metadata": {},
   "outputs": [],
   "source": [
    "obj_files = sorted([f for f in listdir(Museum.DIRS[\"objects\"]) if f.endswith(\".json\")])"
   ]
  },
  {
   "cell_type": "code",
   "execution_count": null,
   "metadata": {},
   "outputs": [],
   "source": [
    "MAX_HEIGHT = 100\n",
    "\n",
    "total_width = 0\n",
    "\n",
    "for fname in obj_files:\n",
    "  with open(path.join(Museum.DIRS[\"objects\"], fname), \"r\") as inp:\n",
    "    iboxes = json.load(inp)\n",
    "\n",
    "  if len(iboxes) < 1:\n",
    "    continue\n",
    "\n",
    "  image_file_path = path.join(Museum.IMGS[\"full\"], fname.replace(\".json\", \".jpg\"))\n",
    "  image = PImageOps.exif_transpose(PImage.open(image_file_path).convert(\"RGB\"))\n",
    "  iw,ih = image.size\n",
    "\n",
    "  for bidx,box in enumerate(iboxes):\n",
    "    (x0,y0,x1,y1) = box[\"box\"]\n",
    "    bimg = image.crop((x0*iw, y0*ih, x1*iw, y1*ih))\n",
    "    biw, bih = bimg.size\n",
    "    if bih > MAX_HEIGHT:\n",
    "      bimg = bimg.resize((int(biw * MAX_HEIGHT / bih), MAX_HEIGHT))\n",
    "    \n",
    "    bifname = f\"{fname.replace('.json', '')}_{('0000'+str(bidx))[-3:]}.jpg\"\n",
    "    bimg.save(path.join(IMG_DIR_FLORA, bifname))\n",
    "    \n",
    "    total_width += bimg.size[0]\n",
    "\n",
    "print(total_width)"
   ]
  },
  {
   "cell_type": "markdown",
   "metadata": {},
   "source": [
    "### Create Mosaic"
   ]
  },
  {
   "cell_type": "code",
   "execution_count": null,
   "metadata": {},
   "outputs": [],
   "source": [
    "import numpy as np"
   ]
  },
  {
   "cell_type": "code",
   "execution_count": null,
   "metadata": {},
   "outputs": [],
   "source": [
    "MAX_HEIGHT = 100\n",
    "total_width = 218903\n",
    "F2x1 = 2.15\n",
    "\n",
    "total_pxs = total_width * MAX_HEIGHT\n",
    "print(total_pxs)\n",
    "\n",
    "mdim_1x1 = round(total_pxs ** 0.5)\n",
    "mdim_2x1 = round((total_pxs/F2x1)**0.5)\n",
    "\n",
    "print(mdim_1x1, \"->\", mdim_1x1*mdim_1x1)\n",
    "print(mdim_2x1, \"->\", F2x1*mdim_2x1*mdim_2x1)"
   ]
  },
  {
   "cell_type": "code",
   "execution_count": null,
   "metadata": {},
   "outputs": [],
   "source": [
    "IMG_SIZES = {\n",
    "  \"1x1\": (4680, 4680),\n",
    "  \"2x1\": (3190, int(F2x1*3190))\n",
    "}"
   ]
  },
  {
   "cell_type": "code",
   "execution_count": null,
   "metadata": {},
   "outputs": [],
   "source": [
    "flora_files = sorted([f for f in listdir(IMG_DIR_FLORA) if f.startswith(\"Q\") and f.endswith(\".jpg\")])\n",
    "print(len(flora_files))"
   ]
  },
  {
   "cell_type": "code",
   "execution_count": null,
   "metadata": {},
   "outputs": [],
   "source": [
    "MIN_WIDTH_F = 0.98\n",
    "\n",
    "for size_tag,mimg_size in IMG_SIZES.items():\n",
    "  cx,cy = 0,0\n",
    "  mimg = PImage.fromarray(np.zeros(mimg_size)).convert(\"RGB\")\n",
    "  miw, mih = mimg.size\n",
    "\n",
    "  for fname in flora_files:\n",
    "    fimg = PImage.open(path.join(IMG_DIR_FLORA, fname))\n",
    "    fiw, fih = fimg.size\n",
    "\n",
    "    if (cx+fiw) > miw and (cx > MIN_WIDTH_F*miw):\n",
    "      cx = 0\n",
    "      cy += MAX_HEIGHT\n",
    "    if cy >= mih:\n",
    "      print(\"breaking\")\n",
    "      break\n",
    "\n",
    "    mimg.paste(fimg, (cx,cy))\n",
    "    cx += fiw\n",
    "\n",
    "  mimg = mimg.crop((0, 0, int(MIN_WIDTH_F*miw), cy))\n",
    "  mimg.save(path.join(IMG_DIR_FLORA, f\"flora_{size_tag}.jpg\"))"
   ]
  },
  {
   "cell_type": "markdown",
   "metadata": {},
   "source": [
    "## SigLip2 (embedding)\n",
    "\n",
    "Large patch 16x16:\n",
    "- https://huggingface.co/google/siglip2-large-patch16-384\n",
    "- https://huggingface.co/google/siglip2-large-patch16-512\n",
    "\n",
    "Giant 16x16:\n",
    "- https://huggingface.co/google/siglip2-giant-opt-patch16-256\n",
    "- https://huggingface.co/google/siglip2-giant-opt-patch16-384\n",
    "\n",
    "\n",
    "## Owl2 (zero-shot detection)\n",
    "- https://huggingface.co/google/owlv2-base-patch16\n",
    "- https://huggingface.co/google/owlv2-large-patch14\n",
    "- https://huggingface.co/google/owlv2-large-patch14-ensemble\n",
    "\n",
    "#### Results from experiments\n",
    "- Use larger images and smaller models"
   ]
  }
 ],
 "metadata": {
  "kernelspec": {
   "display_name": "ml",
   "language": "python",
   "name": "python3"
  },
  "language_info": {
   "codemirror_mode": {
    "name": "ipython",
    "version": 3
   },
   "file_extension": ".py",
   "mimetype": "text/x-python",
   "name": "python",
   "nbconvert_exporter": "python",
   "pygments_lexer": "ipython3",
   "version": "3.10.15"
  }
 },
 "nbformat": 4,
 "nbformat_minor": 2
}
