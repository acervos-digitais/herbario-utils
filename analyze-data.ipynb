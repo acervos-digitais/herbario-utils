{
 "cells": [
  {
   "cell_type": "markdown",
   "metadata": {},
   "source": [
    "# Analyze Data\n",
    "- t-SNE/PCA embedding clustering\n",
    "- Object detection visualization"
   ]
  },
  {
   "cell_type": "code",
   "execution_count": null,
   "metadata": {},
   "outputs": [],
   "source": [
    "import json\n",
    "\n",
    "from os import listdir, path\n",
    "\n",
    "from utils.cluster_utils import pca_kmeans, tsne_kmeans\n",
    "from utils.cluster_utils import plot_clusters, visualize_pca_clusters, visualize_tsne_clusters\n",
    "\n",
    "from params.collections import MUSEUMS\n",
    "from Museum import Museum"
   ]
  },
  {
   "cell_type": "markdown",
   "metadata": {},
   "source": [
    "## t-SNE/PCA: by museum"
   ]
  },
  {
   "cell_type": "code",
   "execution_count": null,
   "metadata": {},
   "outputs": [],
   "source": [
    "museum_info = MUSEUMS[\"brasiliana\"]\n",
    "Museum.prep_dirs(museum_info)"
   ]
  },
  {
   "cell_type": "code",
   "execution_count": null,
   "metadata": {},
   "outputs": [],
   "source": [
    "embeding_files = sorted([f for f in listdir(Museum.DIRS[\"embeddings\"]) if f.endswith(\".json\")])\n",
    "\n",
    "raw_embs = []\n",
    "image_paths = []\n",
    "\n",
    "for idx, io_file in enumerate(embeding_files):\n",
    "  qid = io_file.replace(\".json\", \"\")\n",
    "  img_file = io_file.replace(\".json\", \".jpg\")\n",
    "\n",
    "  embeding_path = path.join(Museum.DIRS[\"embeddings\"], io_file)\n",
    "  with open(embeding_path, \"r\", encoding=\"utf8\") as f:\n",
    "    m_embs = json.load(f)\n",
    "\n",
    "  raw_embs.append(m_embs[qid][\"siglip2\"])\n",
    "  image_paths.append(path.join(Museum.IMGS[\"500\"], img_file))"
   ]
  },
  {
   "cell_type": "code",
   "execution_count": null,
   "metadata": {},
   "outputs": [],
   "source": [
    "pca_vals, pca_clusters, pca_centers = pca_kmeans(raw_embs, n_clusters=4)\n",
    "plot_clusters(pca_clusters, pca_vals, title=\"clip pca\")"
   ]
  },
  {
   "cell_type": "code",
   "execution_count": null,
   "metadata": {},
   "outputs": [],
   "source": [
    "visualize_pca_clusters(raw_embs, image_paths, n_clusters=4, grid_dim=6)"
   ]
  },
  {
   "cell_type": "code",
   "execution_count": null,
   "metadata": {},
   "outputs": [],
   "source": [
    "tsne3_vals, tsne3_clusters, tsne3_centers = tsne_kmeans(raw_embs, n_clusters=4, n_components=3)\n",
    "plot_clusters(tsne3_clusters, tsne3_vals, title=\"clip tsne 3D\")"
   ]
  },
  {
   "cell_type": "code",
   "execution_count": null,
   "metadata": {},
   "outputs": [],
   "source": [
    "tsne2_vals, tsne2_clusters, tsne2_centers = tsne_kmeans(raw_embs, n_clusters=4, n_components=2)\n",
    "plot_clusters(tsne2_clusters, tsne2_vals, title=\"clip tsne 2D\")"
   ]
  },
  {
   "cell_type": "code",
   "execution_count": null,
   "metadata": {},
   "outputs": [],
   "source": [
    "visualize_tsne_clusters(raw_embs, image_paths, n_clusters=4, grid_dim=6)"
   ]
  },
  {
   "cell_type": "markdown",
   "metadata": {},
   "source": [
    "## Visualize Objects"
   ]
  },
  {
   "cell_type": "code",
   "execution_count": null,
   "metadata": {},
   "outputs": [],
   "source": [
    "import json\n",
    "\n",
    "from os import listdir, path\n",
    "\n",
    "from PIL import Image as PImage, ImageOps as PImageOps, ImageDraw as PImageDraw\n",
    "\n",
    "from params.collections import MUSEUMS\n",
    "from Museum import Museum"
   ]
  },
  {
   "cell_type": "markdown",
   "metadata": {},
   "source": [
    "### Visualize Boxes"
   ]
  },
  {
   "cell_type": "code",
   "execution_count": null,
   "metadata": {},
   "outputs": [],
   "source": [
    "museum_info = MUSEUMS[\"brasiliana\"]\n",
    "Museum.prep_dirs(museum_info)"
   ]
  },
  {
   "cell_type": "code",
   "execution_count": null,
   "metadata": {},
   "outputs": [],
   "source": [
    "obj_files = sorted([f for f in listdir(Museum.DIRS[\"objects\"]) if f.endswith(\".json\")])"
   ]
  },
  {
   "cell_type": "code",
   "execution_count": null,
   "metadata": {},
   "outputs": [],
   "source": [
    "for fname in obj_files:\n",
    "  with open(path.join(Museum.DIRS[\"objects\"], fname), \"r\") as inp:\n",
    "    iboxes = json.load(inp)\n",
    "\n",
    "  if len(iboxes) < 1:\n",
    "    continue\n",
    "\n",
    "  image_file_path = path.join(Museum.IMGS[\"900\"], fname.replace(\".json\", \".jpg\"))\n",
    "  image = PImageOps.exif_transpose(PImage.open(image_file_path).convert(\"RGB\"))\n",
    "  iw,ih = image.size\n",
    "  draw = PImageDraw.Draw(image)\n",
    "\n",
    "  for box in iboxes:\n",
    "    label, (x0,y0,x1,y1) = box[\"label\"], box[\"box\"]\n",
    "    draw.rectangle(((x0*iw, y0*ih), (x1*iw, y1*ih)), outline=(255, 0, 0), width=2)\n",
    "\n",
    "  display(image)"
   ]
  },
  {
   "cell_type": "markdown",
   "metadata": {},
   "source": [
    "### Create Mosaic from id + object indexes"
   ]
  },
  {
   "cell_type": "code",
   "execution_count": null,
   "metadata": {},
   "outputs": [],
   "source": [
    "import json\n",
    "\n",
    "import numpy as np\n",
    "\n",
    "from os import path\n",
    "from PIL import Image as PImage"
   ]
  },
  {
   "cell_type": "code",
   "execution_count": null,
   "metadata": {},
   "outputs": [],
   "source": [
    "idObjIdxs_data = [\n",
    "  {\"id\":\"Q42713599\",\"objIdxs\":[0]},\n",
    "  {\"id\":\"Q42713701\",\"objIdxs\":[0,1]},\n",
    "  {\"id\":\"Q52301360\",\"objIdxs\":[0,1]},\n",
    "  {\"id\":\"Q52303067\",\"objIdxs\":[0]},\n",
    "  {\"id\":\"Q52303343\",\"objIdxs\":[0,1]},\n",
    "  {\"id\":\"Q52303884\",\"objIdxs\":[0]},\n",
    "  {\"id\":\"Q59924902\",\"objIdxs\":[0,1,2,3,4,5]},\n",
    "  {\"id\":\"Q59924903\",\"objIdxs\":[0]},\n",
    "  {\"id\":\"Q59925006\",\"objIdxs\":[0]},\n",
    "  {\"id\":\"Q59925012\",\"objIdxs\":[0,1,2,3]},\n",
    "  {\"id\":\"Q59925013\",\"objIdxs\":[0,1,2]},\n",
    "  {\"id\":\"Q59925016\",\"objIdxs\":[0,1]},\n",
    "  {\"id\":\"Q59925022\",\"objIdxs\":[0]},\n",
    "  {\"id\":\"Q59925023\",\"objIdxs\":[0,1]},\n",
    "  {\"id\":\"Q59925024\",\"objIdxs\":[0,1,2,4,5,6,7]},\n",
    "  {\"id\":\"Q59925026\",\"objIdxs\":[0,1,2,3]},\n",
    "  {\"id\":\"Q59925027\",\"objIdxs\":[1]},\n",
    "  {\"id\":\"Q59925028\",\"objIdxs\":[0]},\n",
    "  {\"id\":\"Q59925033\",\"objIdxs\":[0,1]},\n",
    "  {\"id\":\"Q59925682\",\"objIdxs\":[0]},\n",
    "  {\"id\":\"Q59925704\",\"objIdxs\":[1]},\n",
    "  {\"id\":\"Q59925705\",\"objIdxs\":[0]},\n",
    "  {\"id\":\"Q59925718\",\"objIdxs\":[0]},\n",
    "  {\"id\":\"Q59954329\",\"objIdxs\":[0]},\n",
    "  {\"id\":\"Q123784523\",\"objIdxs\":[]},\n",
    "  {\"id\":\"Q124620698\",\"objIdxs\":[]},\n",
    "  {\"id\":\"Q125101557\",\"objIdxs\":[]},\n",
    "  {\"id\":\"Q59954335\",\"objIdxs\":[0]},\n",
    "  {\"id\":\"Q59954338\",\"objIdxs\":[0,1,2]},\n",
    "  {\"id\":\"Q59954339\",\"objIdxs\":[0]},\n",
    "  {\"id\":\"Q59954346\",\"objIdxs\":[0,1]}\n",
    "]\n",
    "\n",
    "DATA_FILE = \"./metadata/json/20250619_processed.json\"\n",
    "IMG_DIR = \"../../imgs/arts/full\"\n",
    "\n",
    "with open(DATA_FILE, \"r\") as ifp:\n",
    "  all_data = json.load(ifp)"
   ]
  },
  {
   "cell_type": "code",
   "execution_count": null,
   "metadata": {},
   "outputs": [],
   "source": [
    "height_min = 1e6\n",
    "sizes = {}\n",
    "\n",
    "for idObjIdxs in idObjIdxs_data:\n",
    "  if len(idObjIdxs[\"objIdxs\"]) < 1:\n",
    "    continue\n",
    "  id = idObjIdxs[\"id\"]\n",
    "  img = PImage.open(path.join(IMG_DIR, f\"{id}.jpg\"))\n",
    "  iw,ih = img.size\n",
    "  sizes[id] = (iw,ih)\n",
    "  for idx in idObjIdxs[\"objIdxs\"]:\n",
    "    (x0,y0,x1,y1) = all_data[id][\"objects\"][idx][\"box\"]\n",
    "    crop_h = ih * (y1 - y0)\n",
    "    height_min = min(height_min, crop_h)\n",
    "\n",
    "print(height_min)"
   ]
  },
  {
   "cell_type": "code",
   "execution_count": null,
   "metadata": {},
   "outputs": [],
   "source": [
    "width_sum = 0\n",
    "\n",
    "for idObjIdxs in idObjIdxs_data:\n",
    "  if len(idObjIdxs[\"objIdxs\"]) < 1:\n",
    "    continue\n",
    "  id = idObjIdxs[\"id\"]\n",
    "  iw,ih = sizes[id]\n",
    "  for idx in idObjIdxs[\"objIdxs\"]:\n",
    "    (x0,y0,x1,y1) = all_data[id][\"objects\"][idx][\"box\"]\n",
    "    crop_w = iw * (x1 - x0)\n",
    "    crop_h = ih * (y1 - y0)\n",
    "    width_sum += (height_min / crop_h) * crop_w\n",
    "\n",
    "mos_w = int((width_sum * height_min) ** 0.5)\n",
    "mos_h = int(1.2 * mos_w)\n",
    "print(mos_w, mos_h)"
   ]
  },
  {
   "cell_type": "code",
   "execution_count": null,
   "metadata": {},
   "outputs": [],
   "source": [
    "mos_img = PImage.fromarray(np.zeros((mos_h, mos_w))).convert(\"RGB\")\n",
    "\n",
    "cur_x, cur_y = 0, 0\n",
    "\n",
    "for idObjIdxs in idObjIdxs_data:\n",
    "  if len(idObjIdxs[\"objIdxs\"]) < 1:\n",
    "    continue\n",
    "  id = idObjIdxs[\"id\"]\n",
    "  img = PImage.open(path.join(IMG_DIR, f\"{id}.jpg\"))\n",
    "  iw,ih = img.size\n",
    "  for idx in idObjIdxs[\"objIdxs\"]:\n",
    "    (x0,y0,x1,y1) = all_data[id][\"objects\"][idx][\"box\"]\n",
    "    crop_w = iw * (x1 - x0)\n",
    "    crop_h = ih * (y1 - y0)\n",
    "\n",
    "    scale_factor = height_min / crop_h\n",
    "    crop_w, crop_h = int(scale_factor * crop_w), int(scale_factor * crop_h)\n",
    "\n",
    "    crop_img = img.crop((int(x0 * iw), int(y0 * ih), int(x1 * iw), int(y1 * ih))).resize((crop_w, crop_h))\n",
    "\n",
    "    if cur_y >= mos_h:\n",
    "      print(\"break\")\n",
    "      break\n",
    "\n",
    "    mos_img.paste(crop_img, (cur_x, cur_y))\n",
    "    cur_x += crop_w\n",
    "\n",
    "    if cur_x > mos_w:\n",
    "      overflow_x = cur_x - mos_w\n",
    "      crop_img = crop_img.crop((crop_w - overflow_x, 0, crop_w, crop_h))\n",
    "      cur_x = 0\n",
    "      cur_y += crop_h\n",
    "      mos_img.paste(crop_img, (cur_x, cur_y))\n",
    "      cur_x += overflow_x\n",
    "\n",
    "if cur_x < mos_w and cur_y < mos_h:\n",
    "  empty_w = mos_w - cur_x\n",
    "  row = mos_img.crop((0, 0, empty_w, height_min))\n",
    "  mos_img.paste(row, (cur_x, cur_y))\n",
    "\n",
    "mos_img = mos_img.crop((0, 0, mos_w, cur_y + crop_h))\n",
    "mos_img.thumbnail((1024,1024))\n",
    "\n",
    "print(mos_img.size)\n",
    "display(mos_img)"
   ]
  },
  {
   "cell_type": "markdown",
   "metadata": {},
   "source": [
    "## Describe Object Crops"
   ]
  },
  {
   "cell_type": "code",
   "execution_count": null,
   "metadata": {},
   "outputs": [],
   "source": [
    "import json\n",
    "\n",
    "from utils.data_utils import Describer\n",
    "\n",
    "PREFIX = \"20250705\"\n",
    "DATA_DIR = \"./metadata/json\"\n",
    "DATA_FILE = f\"{DATA_DIR}/{PREFIX}_processed.json\"\n",
    "IMG_DIR = \"../../imgs/arts/full\"\n",
    "\n",
    "with open(DATA_FILE, \"r\", encoding=\"utf-8\") as ifp:\n",
    "  all_data = json.load(ifp)\n",
    "\n",
    "mDescriber = Describer(PREFIX, IMG_DIR)"
   ]
  },
  {
   "cell_type": "code",
   "execution_count": null,
   "metadata": {},
   "outputs": [],
   "source": [
    "obj_boxes = []\n",
    "obj_label = \"palm tree\"\n",
    "\n",
    "for k,v in all_data.items():\n",
    "  for odata in [o for o in v[\"objects\"] if o[\"label\"] == obj_label]:\n",
    "    obj_boxes.append({\"id\": k} | odata)\n",
    "\n",
    "sorted_boxes = sorted(obj_boxes, key=lambda x:x[\"score\"], reverse=True)\n",
    "sorted_box_keys = [(bo[\"id\"], *bo[\"box\"]) for bo in sorted_boxes]\n",
    "len(sorted_box_keys)"
   ]
  },
  {
   "cell_type": "code",
   "execution_count": null,
   "metadata": {},
   "outputs": [],
   "source": [
    "descriptions = mDescriber.describe(sorted_box_keys, num_images=16, words_offset=0)\n",
    "descriptions"
   ]
  }
 ],
 "metadata": {
  "kernelspec": {
   "display_name": "ml",
   "language": "python",
   "name": "python3"
  },
  "language_info": {
   "codemirror_mode": {
    "name": "ipython",
    "version": 3
   },
   "file_extension": ".py",
   "mimetype": "text/x-python",
   "name": "python",
   "nbconvert_exporter": "python",
   "pygments_lexer": "ipython3",
   "version": "3.10.15"
  }
 },
 "nbformat": 4,
 "nbformat_minor": 2
}
