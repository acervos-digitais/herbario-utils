{
 "cells": [
  {
   "cell_type": "markdown",
   "metadata": {},
   "source": [
    "# Download Metadat/Images\n",
    "\n",
    "De várias fontes..."
   ]
  },
  {
   "cell_type": "markdown",
   "metadata": {},
   "source": [
    "## [Museu Paulista](https://pt.wikipedia.org/wiki/Wikipédia:GLAM/Museu_Paulista)\n",
    "\n",
    "Queries:\n",
    "- negative: https://w.wiki/C$kL\n",
    "- positive: https://w.wiki/C$kK"
   ]
  },
  {
   "cell_type": "code",
   "execution_count": null,
   "metadata": {},
   "outputs": [],
   "source": [
    "import json\n",
    "import requests\n",
    "\n",
    "from hashlib import md5\n",
    "from io import BytesIO\n",
    "from os import path, makedirs\n",
    "from PIL import Image as PImage\n",
    "from SPARQLWrapper import SPARQLWrapper"
   ]
  },
  {
   "cell_type": "code",
   "execution_count": null,
   "metadata": {},
   "outputs": [],
   "source": [
    "WIKI_DATA_PATH = \"./metadata/json/MuseuPaulista\"\n",
    "WIKI_INFO_FILEPATH = path.join(WIKI_DATA_PATH, \"info.json\")\n",
    "\n",
    "makedirs(WIKI_DATA_PATH, exist_ok=True)"
   ]
  },
  {
   "cell_type": "code",
   "execution_count": null,
   "metadata": {},
   "outputs": [],
   "source": [
    "WIKI_QUERY_URL = \"https://query.wikidata.org/sparql\"\n",
    "WIKI_CLAIM_URL = \"https://www.wikidata.org/w/api.php?action=wbgetclaims&format=json&property=P18&entity=\"\n",
    "WIKI_MEDIA_URL = \"https://upload.wikimedia.org/wikipedia/commons\"\n",
    "\n",
    "USER_AGENT = \"Acervos-Digitais/0.1 (https://www.acervosdigitais.fau.usp.br/; acervosdigitais@usp.br)\"\n",
    "\n",
    "OBJ_QCODES = {\n",
    "  \"photograph\": \"Q125191\",\n",
    "  \"floor plan\": \"Q18965\",\n",
    "  \"postcard\": \"Q192425\",\n",
    "  \"map\": \"Q4006\",\n",
    "  \"painting\": \"Q3305213\",\n",
    "  \"print\": \"Q11060274\",\n",
    "  \"topographic map\": \"Q216526\",\n",
    "  \"printed matter\": \"Q1261026\",\n",
    "  \"ornament\": \"Q335261\",\n",
    "  \"negative\": \"Q595597\",\n",
    "  \"toy\": \"Q11422\",\n",
    "  \"plate\": \"Q57216\",\n",
    "  \"doll\": \"Q168658\",\n",
    "  \"doll clothes\": \"Q44201312\",\n",
    "  \"vase\": \"Q191851\",\n",
    "  \"towel\": \"Q131696\",\n",
    "  \"saucer\": \"Q1422576\",\n",
    "  \"equipment\": \"Q10273457\",\n",
    "  \"photograph album\": \"Q488053\",\n",
    "  \"tin\": \"Q15706035\",\n",
    "  \"teacup\": \"Q81707\",\n",
    "  \"pillowcase\": \"Q1094401\",\n",
    "  \"drawing\": \"Q93184\",\n",
    "  \"light fixture\": \"Q815738\",\n",
    "  \"furniture\": \"Q14745\",\n",
    "  \"lantern\": \"Q862454\",\n",
    "  \"teapot\": \"Q245005\",\n",
    "  \"chair\": \"Q15026\",\n",
    "  \"illustration\": \"Q178659\",\n",
    "  \"product packaging\": \"Q207822\",\n",
    "  \"sculpture\": \"Q860861\",\n",
    "  \"statue\": \"Q179700\",\n",
    "}\n",
    "\n",
    "def prep_query(object_label):\n",
    "  return f\"\"\"#defaultView:Table\n",
    "    SELECT DISTINCT ?item ?itemLabel ?qid ?image ?creatorLabel ?date WHERE {{\n",
    "    SERVICE wikibase:label {{ bd:serviceParam wikibase:language \"en\". }}\n",
    "    ?item wdt:P276 wd:Q371803.\n",
    "    ?item wdt:P18 ?image.\n",
    "\n",
    "    ?item wdt:P31 wd:{OBJ_QCODES[object_label]}.\n",
    "\n",
    "    BIND(STRAFTER(STR(?item), STR(wd:)) AS ?qid).\n",
    "\n",
    "    OPTIONAL {{ ?item wdt:P170 ?creator. }}\n",
    "    ### GET DEPICTS P180\n",
    "    OPTIONAL {{ ?item wdt:P571 ?date. }}\n",
    "    OPTIONAL {{ ?item wdt:P31 ?object. }}\n",
    "  }}\n",
    "  \"\"\""
   ]
  },
  {
   "cell_type": "code",
   "execution_count": null,
   "metadata": {},
   "outputs": [],
   "source": [
    "def get_results(endpoint_url, query):\n",
    "  sparql = SPARQLWrapper(endpoint_url, agent=USER_AGENT)\n",
    "  sparql.setQuery(query)\n",
    "  sparql.setReturnFormat(\"json\")\n",
    "  return sparql.query().convert()"
   ]
  },
  {
   "cell_type": "code",
   "execution_count": null,
   "metadata": {},
   "outputs": [],
   "source": [
    "pQuery = prep_query(\"painting\")\n",
    "results = get_results(WIKI_QUERY_URL, pQuery)[\"results\"][\"bindings\"]"
   ]
  },
  {
   "cell_type": "code",
   "execution_count": null,
   "metadata": {},
   "outputs": [],
   "source": [
    "wiki_data = {}\n",
    "\n",
    "if (path.isfile(WIKI_DATA_PATH)):\n",
    "  with open(WIKI_DATA_PATH, \"r\") as ifp:\n",
    "    wiki_data = json.load(ifp)"
   ]
  },
  {
   "cell_type": "markdown",
   "metadata": {},
   "source": [
    "### Prep Metadata"
   ]
  },
  {
   "cell_type": "code",
   "execution_count": null,
   "metadata": {},
   "outputs": [],
   "source": [
    "defval = {\"value\": \"unknown\"}\n",
    "\n",
    "for cnt,result in enumerate(results):\n",
    "  if cnt % 10 == 0:\n",
    "    print(cnt)\n",
    "\n",
    "  id = result[\"qid\"][\"value\"]\n",
    "  if id in wiki_data:\n",
    "    continue\n",
    "\n",
    "  img_url = result[\"image\"][\"value\"]\n",
    "\n",
    "  wiki_data[id] = {\n",
    "    \"id\": result[\"qid\"][\"value\"],\n",
    "    \"title\": result[\"itemLabel\"][\"value\"],\n",
    "    \"date\": result.get(\"date\", defval)[\"value\"],\n",
    "    \"creator\": result.get(\"creatorLabel\", defval)[\"value\"],\n",
    "    \"image\": img_url\n",
    "  }"
   ]
  },
  {
   "cell_type": "markdown",
   "metadata": {},
   "source": [
    "### Download Images"
   ]
  },
  {
   "cell_type": "code",
   "execution_count": null,
   "metadata": {},
   "outputs": [],
   "source": [
    "IMG_PATH = \"../../imgs/MuseuPaulista\"\n",
    "\n",
    "IMG_PATH_FULL = path.join(IMG_PATH, \"full\")\n",
    "IMG_PATH_500 = path.join(IMG_PATH, \"500\")\n",
    "\n",
    "makedirs(IMG_PATH_FULL, exist_ok=True)\n",
    "makedirs(IMG_PATH_500, exist_ok=True)"
   ]
  },
  {
   "cell_type": "code",
   "execution_count": null,
   "metadata": {},
   "outputs": [],
   "source": [
    "def qid_to_img_url(qid):\n",
    "  response = requests.get(f\"{WIKI_CLAIM_URL}{qid}\")\n",
    "  response.raise_for_status()\n",
    "  info = json.loads(response.content)\n",
    "  fname = info[\"claims\"][\"P18\"][0][\"mainsnak\"][\"datavalue\"][\"value\"].replace(\" \", \"_\")\n",
    "  fname_md5 = md5(fname.encode())\n",
    "  md5_hex = fname_md5.hexdigest()\n",
    "  img_url = f\"{WIKI_MEDIA_URL}/{md5_hex[0]}/{md5_hex[:2]}/{fname}\"\n",
    "  return img_url\n"
   ]
  },
  {
   "cell_type": "code",
   "execution_count": null,
   "metadata": {},
   "outputs": [],
   "source": [
    "# TODO: download\n",
    "\n",
    "img_path_full = path.join(IMG_PATH_FULL, f\"{id}.jpg\")\n",
    "img_path_500 = path.join(IMG_PATH_500, f\"{id}.jpg\")\n",
    "\n",
    "if (not path.isfile(img_path_full)) or (not path.isfile(img_path_500)):\n",
    "  try:\n",
    "    response = requests.get(img_url, headers={\"User-Agent\": USER_AGENT})\n",
    "    response.raise_for_status()\n",
    "    pimg = PImage.open(BytesIO(response.content)).convert(\"RGB\")\n",
    "  except:\n",
    "    print(id)\n",
    "    print(img_url)\n",
    "    print(response)\n",
    "    continue\n",
    "\n",
    "if (not path.isfile(img_path_full)):\n",
    "  pimg.save(img_path_full)\n",
    "\n",
    "if (not path.isfile(img_path_500)):\n",
    "  pimg.thumbnail([500, 500])\n",
    "  pimg.save(path.join(IMG_PATH_500, f\"{id}.jpg\"))\n"
   ]
  }
 ],
 "metadata": {
  "kernelspec": {
   "display_name": "ml",
   "language": "python",
   "name": "python3"
  },
  "language_info": {
   "codemirror_mode": {
    "name": "ipython",
    "version": 3
   },
   "file_extension": ".py",
   "mimetype": "text/x-python",
   "name": "python",
   "nbconvert_exporter": "python",
   "pygments_lexer": "ipython3",
   "version": "3.10.15"
  }
 },
 "nbformat": 4,
 "nbformat_minor": 2
}
