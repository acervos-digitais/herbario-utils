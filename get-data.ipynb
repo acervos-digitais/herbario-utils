{
 "cells": [
  {
   "cell_type": "markdown",
   "metadata": {},
   "source": [
    "# Download Metadata/Images\n",
    "\n",
    "De várias fontes..."
   ]
  },
  {
   "cell_type": "markdown",
   "metadata": {},
   "source": [
    "## Wikidata / GLAMs\n",
    "\n",
    "- [Museu Paulista](https://pt.wikipedia.org/wiki/Wikipédia:GLAM/Museu_Paulista)\n",
    "\n",
    "Query Examples:\n",
    "- negative: https://w.wiki/C$kL\n",
    "- positive: https://w.wiki/C$kK\n",
    "\n",
    "Actual Queries:\n",
    "- `painting` / `drawing`\n",
    "  - located (P276) MASP (Q82941)\n",
    "  - located (P276) Pinacoteca (Q2095209)\n",
    "  - collection (P195) Pinacoteca Collection (Q59247460)\n",
    "  - located (P276) Museu Paulista (Q371803)\n",
    "  - collection (P195) Museu Paulista (Q56677470)\n",
    "  - located (P276) Museu Historico Nacional (Q510993)\n",
    "  - collection (P195) Museu Historico Nacional (Q62091616)\n",
    "- `watercolor painting`\n",
    "  - located (P267) Hercule Florence (Q64759283)\n",
    "  - collection (P195) Hercule Florence (Q107003876)\n",
    "- `photograph`\n",
    "  - collection (P195) IMS (Q71989864)"
   ]
  },
  {
   "cell_type": "code",
   "execution_count": null,
   "metadata": {},
   "outputs": [],
   "source": [
    "from params.collections import MUSEUMS\n",
    "\n",
    "from Museum import WikidataMuseum"
   ]
  },
  {
   "cell_type": "code",
   "execution_count": null,
   "metadata": {},
   "outputs": [],
   "source": [
    "museum_info = MUSEUMS[\"masp\"]\n",
    "\n",
    "WikidataMuseum.get_metadata(museum_info)\n",
    "WikidataMuseum.download_images(museum_info)"
   ]
  },
  {
   "cell_type": "markdown",
   "metadata": {},
   "source": [
    "## [Brasiliana Museus](https://brasiliana.museus.gov.br/)\n",
    "\n",
    "Queries:\n",
    "- [pinturas](https://brasiliana.museus.gov.br/classificacao/02-artes-visuais-cinematografica-02-6-pintura/?perpage=96&view_mode=masonry&paged=1&order=ASC&orderby=date&fetch_only_meta=&fetch_only=thumbnail%2Ccreation_date%2Ctitle%2Cdescription&taxquery%5B0%5D%5Btaxonomy%5D=tnc_tax_27&taxquery%5B0%5D%5Bterms%5D%5B0%5D=1076&taxquery%5B0%5D%5Bcompare%5D=IN)"
   ]
  },
  {
   "cell_type": "code",
   "execution_count": null,
   "metadata": {},
   "outputs": [],
   "source": [
    "from params.collections import MUSEUMS\n",
    "\n",
    "from Museum import BrasilianaMuseum"
   ]
  },
  {
   "cell_type": "code",
   "execution_count": null,
   "metadata": {},
   "outputs": [],
   "source": [
    "museum_info = MUSEUMS[\"brasiliana\"]\n",
    "\n",
    "BrasilianaMuseum.get_metadata(museum_info)\n",
    "BrasilianaMuseum.download_images(museum_info)"
   ]
  }
 ],
 "metadata": {
  "kernelspec": {
   "display_name": "ml",
   "language": "python",
   "name": "python3"
  },
  "language_info": {
   "codemirror_mode": {
    "name": "ipython",
    "version": 3
   },
   "file_extension": ".py",
   "mimetype": "text/x-python",
   "name": "python",
   "nbconvert_exporter": "python",
   "pygments_lexer": "ipython3",
   "version": "3.10.15"
  }
 },
 "nbformat": 4,
 "nbformat_minor": 2
}
