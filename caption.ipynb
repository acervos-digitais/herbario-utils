{
 "cells": [
  {
   "cell_type": "markdown",
   "metadata": {},
   "source": [
    "# Caption"
   ]
  },
  {
   "cell_type": "markdown",
   "metadata": {},
   "source": [
    "## Ollama: Llama3.2-Vision"
   ]
  },
  {
   "cell_type": "code",
   "execution_count": null,
   "metadata": {},
   "outputs": [],
   "source": [
    "import base64\n",
    "import json\n",
    "\n",
    "from os import makedirs, path\n",
    "\n",
    "from models.LlamaVision import LlamaVision\n",
    "from models.EnPt import EnPt\n",
    "\n",
    "from params.collections import MUSEUMS"
   ]
  },
  {
   "cell_type": "code",
   "execution_count": null,
   "metadata": {},
   "outputs": [],
   "source": [
    "museum_info = MUSEUMS[\"pinacoteca\"]"
   ]
  },
  {
   "cell_type": "code",
   "execution_count": null,
   "metadata": {},
   "outputs": [],
   "source": [
    "MUSEUM_DATA_DIR = f\"./metadata/json/{museum_info['dir']}\"\n",
    "MUSEUM_INFO_PATH = path.join(MUSEUM_DATA_DIR, f\"{museum_info['file']}.json\")\n",
    "\n",
    "MUSEUM_CAPTION_DIR = path.join(MUSEUM_DATA_DIR, \"captions\")\n",
    "makedirs(MUSEUM_CAPTION_DIR, exist_ok=True)\n",
    "\n",
    "IMG_DIR = f\"../../imgs/{museum_info['dir']}\"\n",
    "IMG_DIR_500 = path.join(IMG_DIR, \"500\")\n",
    "IMG_DIR_900 = path.join(IMG_DIR, \"900\")\n",
    "\n",
    "OLLAMA_URL = \"http://127.0.0.1:11434\""
   ]
  },
  {
   "cell_type": "code",
   "execution_count": null,
   "metadata": {},
   "outputs": [],
   "source": [
    "museum_data = {}\n",
    "\n",
    "if (path.isfile(MUSEUM_INFO_PATH)):\n",
    "  with open(MUSEUM_INFO_PATH, \"r\") as ifp:\n",
    "    museum_data = json.load(ifp)\n",
    "\n",
    "qids = sorted(list(museum_datata.keys()))"
   ]
  },
  {
   "cell_type": "code",
   "execution_count": null,
   "metadata": {},
   "outputs": [],
   "source": [
    "llama_vision = LlamaVision()"
   ]
  },
  {
   "cell_type": "code",
   "execution_count": null,
   "metadata": {},
   "outputs": [],
   "source": [
    "for cnt,qid in enumerate(qids[:10]):\n",
    "  if cnt % 100 == 0:\n",
    "    print(cnt)\n",
    "\n",
    "  img_path = path.join(IMG_DIR_900, f\"{qid}.jpg\")\n",
    "  caption_path = path.join(MUSEUM_CAPTION_DIR, f\"{qid}.json\")\n",
    "\n",
    "  with open(img_path, \"rb\") as ifp:\n",
    "    img_data = ifp.read()\n",
    "    img = base64.b64encode(img_data).decode()\n",
    "    llama_vision_caption_en = llama_vision.caption(img)\n",
    "    llama_vision_caption_pt = {k:[EnPt.translate(w) for w in v] for k,v in llama_vision_caption_en.items()}\n",
    "\n",
    "    cap_data = {\n",
    "      \"llama3.2\": {\n",
    "        \"en\" : llama_vision_caption_en,\n",
    "        \"pt\":llama_vision_caption_pt\n",
    "      }\n",
    "    }\n",
    "\n",
    "    with open(caption_path, \"w\", encoding=\"utf-8\") as ofp:\n",
    "      json.dump(cap_data, ofp, sort_keys=True, separators=(',',':'), ensure_ascii=False)"
   ]
  }
 ],
 "metadata": {
  "kernelspec": {
   "display_name": "ml",
   "language": "python",
   "name": "python3"
  },
  "language_info": {
   "codemirror_mode": {
    "name": "ipython",
    "version": 3
   },
   "file_extension": ".py",
   "mimetype": "text/x-python",
   "name": "python",
   "nbconvert_exporter": "python",
   "pygments_lexer": "ipython3",
   "version": "3.10.15"
  }
 },
 "nbformat": 4,
 "nbformat_minor": 2
}
