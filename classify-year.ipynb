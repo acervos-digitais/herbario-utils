{
 "cells": [
  {
   "cell_type": "code",
   "execution_count": null,
   "metadata": {},
   "outputs": [],
   "source": [
    "import json\n",
    "\n",
    "from Museum import Museum\n",
    "from params.collections import MUSEUMS\n",
    "\n",
    "from utils.classification_utils import impute_year"
   ]
  },
  {
   "cell_type": "markdown",
   "metadata": {},
   "source": [
    "## Load Data"
   ]
  },
  {
   "cell_type": "code",
   "execution_count": null,
   "metadata": {},
   "outputs": [],
   "source": [
    "PREFIX = \"20250705\"\n",
    "DATA_DIR = \"./metadata/json\"\n",
    "DATA_FILE = f\"{DATA_DIR}/{PREFIX}_processed.json\"\n",
    "CLUSTER_FILE = f\"{DATA_DIR}/{PREFIX}_clusters.json\"\n",
    "\n",
    "embedding_data = Museum.combine_all_data(MUSEUMS, \"embeddings\")\n",
    "\n",
    "with open(DATA_FILE, \"r\", encoding=\"utf-8\") as ifp:\n",
    "  all_data = json.load(ifp)"
   ]
  },
  {
   "cell_type": "markdown",
   "metadata": {},
   "source": [
    "## Predict Dataset"
   ]
  },
  {
   "cell_type": "code",
   "execution_count": null,
   "metadata": {},
   "outputs": [],
   "source": [
    "imputed_data = impute_year(all_data, embedding_data)\n",
    "len([1 for x in imputed_data.values() if x[\"yearp\"][0] > 2025])"
   ]
  },
  {
   "cell_type": "markdown",
   "metadata": {},
   "source": [
    "## Test / Debug"
   ]
  },
  {
   "cell_type": "code",
   "execution_count": null,
   "metadata": {},
   "outputs": [],
   "source": [
    "import json\n",
    "import numpy as np\n",
    "\n",
    "from sklearn.metrics import accuracy_score\n",
    "from sklearn.model_selection import train_test_split\n",
    "\n",
    "from Museum import Museum\n",
    "from params.collections import MUSEUMS\n",
    "\n",
    "from utils.classification_utils import AverageClassify, ClusterClassify, TorchClassify\n",
    "from utils.classification_utils import KNNClassify, MLPClassify, RFClassify, SVClassify\n",
    "from utils.classification_utils import GaussianBayesClassify, GaussianProcessClassify, SGDClassify\n",
    "\n",
    "from utils.classification_utils import YearData"
   ]
  },
  {
   "cell_type": "code",
   "execution_count": null,
   "metadata": {},
   "outputs": [],
   "source": [
    "PREFIX = \"20250705\"\n",
    "DATA_DIR = \"./metadata/json\"\n",
    "DATA_FILE = f\"{DATA_DIR}/{PREFIX}_processed.json\"\n",
    "CLUSTER_FILE = f\"{DATA_DIR}/{PREFIX}_clusters.json\"\n",
    "\n",
    "embedding_data = Museum.combine_all_data(MUSEUMS, \"embeddings\")\n",
    "\n",
    "with open(DATA_FILE, \"r\", encoding=\"utf-8\") as ifp:\n",
    "  all_data = json.load(ifp)"
   ]
  },
  {
   "cell_type": "markdown",
   "metadata": {},
   "source": [
    "## Training Dataset"
   ]
  },
  {
   "cell_type": "code",
   "execution_count": null,
   "metadata": {},
   "outputs": [],
   "source": [
    "mYD = YearData(1800, 2000, 10)\n",
    "\n",
    "embedding_data = Museum.combine_all_data(MUSEUMS, \"embeddings\")\n",
    "\n",
    "with open(DATA_FILE, \"r\", encoding=\"utf-8\") as ifp:\n",
    "  all_data = json.load(ifp)\n",
    "\n",
    "with open(CLUSTER_FILE, \"r\", encoding=\"utf-8\") as ifp:\n",
    "  cluster_data_all = json.load(ifp)\n",
    "  cluster_data = cluster_data_all[\"8\"][\"images\"]\n",
    "\n",
    "class_data = []\n",
    "\n",
    "for id in all_data.keys():\n",
    "  if all_data[id][\"year\"] < 2030:\n",
    "    class_data.append({\n",
    "      \"id\": str(all_data[id][\"id\"]),\n",
    "      \"year\": all_data[id][\"year\"],\n",
    "      \"cluster\": cluster_data[id][\"cluster\"],\n",
    "      \"class\": mYD.year2class(all_data[id][\"year\"]),\n",
    "      \"embedding\": embedding_data[id][\"siglip2\"]\n",
    "    })\n",
    "\n",
    "class_data_train, class_data_test = train_test_split(class_data, test_size=0.25, random_state=101010)\n",
    "\n",
    "classes_train = np.array([x[\"class\"] for x in class_data_train])\n",
    "classes_test = np.array([x[\"class\"] for x in class_data_test])"
   ]
  },
  {
   "cell_type": "markdown",
   "metadata": {},
   "source": [
    "## Classification\n",
    "\n",
    "### Good classifiers"
   ]
  },
  {
   "cell_type": "code",
   "execution_count": null,
   "metadata": {},
   "outputs": [],
   "source": [
    "mCC = KNNClassify(7)\n",
    "mCC.fit(class_data_train)\n",
    "\n",
    "preds_train = mCC.predict(class_data_train)\n",
    "preds_test = mCC.predict(class_data_test)\n",
    "\n",
    "preds_prob_train = mCC.predict_prob(class_data_train)\n",
    "preds_prob_test = mCC.predict_prob(class_data_test)\n",
    "\n",
    "print(f\"train: {accuracy_score(classes_train, preds_train)}\")\n",
    "print(f\"test: {accuracy_score(classes_test, preds_test)}\")\n",
    "\n",
    "# AverageClassify.dist_stats(classes_train, preds_prob_train)\n",
    "# AverageClassify.dist_stats(classes_test, preds_prob_test)\n",
    "KNNClassify.plot_accuracy_coverage(classes_test, preds_prob_test)\n",
    "# thold: >0.8 (correct mean)\n",
    "\n",
    "for t in range(60, 105, 5):\n",
    "  print(f\"({t/100}): {KNNClassify.thold_accuracy(classes_test, preds_prob_test, t/100)}\")"
   ]
  },
  {
   "cell_type": "code",
   "execution_count": null,
   "metadata": {},
   "outputs": [],
   "source": [
    "mCC = SVClassify(C=8.0, n_components=256)\n",
    "mCC.fit(class_data_train)\n",
    "\n",
    "preds_train = mCC.predict(class_data_train)\n",
    "preds_test = mCC.predict(class_data_test)\n",
    "\n",
    "preds_prob_train = mCC.predict_prob(class_data_train)\n",
    "preds_prob_test = mCC.predict_prob(class_data_test)\n",
    "\n",
    "print(f\"train: {accuracy_score(classes_train, preds_train)}\")\n",
    "print(f\"test: {accuracy_score(classes_test, preds_test)}\")\n",
    "\n",
    "# AverageClassify.dist_stats(classes_train, preds_prob_train)\n",
    "# AverageClassify.dist_stats(classes_test, preds_prob_test)\n",
    "SVClassify.plot_accuracy_coverage(classes_test, preds_prob_test)\n",
    "# thold: >0.8 (test correct mean)\n",
    "\n",
    "for t in range(60, 105, 5):\n",
    "  print(f\"({t/100}): {SVClassify.thold_accuracy(classes_test, preds_prob_test, t/100)}\")"
   ]
  },
  {
   "cell_type": "code",
   "execution_count": null,
   "metadata": {},
   "outputs": [],
   "source": [
    "mCC = TorchClassify(lr=1e-1, epochs=288)\n",
    "mCC.fit(class_data_train)\n",
    "\n",
    "# preds_train = mCC.predict(class_data_train)\n",
    "# preds_test = mCC.predict(class_data_test)\n",
    "\n",
    "# preds_prob_train = mCC.predict_prob(class_data_train)\n",
    "preds_prob_test = mCC.predict_prob(class_data_test)\n",
    "\n",
    "# print(f\"train: {accuracy_score(classes_train, preds_train)}\")\n",
    "# print(f\"test: {accuracy_score(classes_test, preds_test)}\")\n",
    "\n",
    "# AverageClassify.dist_stats(classes_train, preds_prob_train)\n",
    "# AverageClassify.dist_stats(classes_test, preds_prob_test)\n",
    "MLPClassify.plot_accuracy_coverage(classes_test, preds_prob_test)\n",
    "# thold: >0.999\n",
    "\n",
    "print()\n",
    "print(f\"test ({0.9}): {MLPClassify.thold_accuracy(classes_test, preds_prob_test, 0.9)}\")\n",
    "print(f\"test ({0.95}): {MLPClassify.thold_accuracy(classes_test, preds_prob_test, 0.95)}\")\n",
    "print(f\"test ({0.99}): {MLPClassify.thold_accuracy(classes_test, preds_prob_test, 0.99)}\")\n",
    "print(f\"test ({0.999}): {MLPClassify.thold_accuracy(classes_test, preds_prob_test, 0.999)}\")\n",
    "print(f\"test ({0.9999}): {MLPClassify.thold_accuracy(classes_test, preds_prob_test, 0.9999)}\")"
   ]
  },
  {
   "cell_type": "markdown",
   "metadata": {},
   "source": [
    "### Not so good classifiers"
   ]
  },
  {
   "cell_type": "code",
   "execution_count": null,
   "metadata": {},
   "outputs": [],
   "source": [
    "mCC = AverageClassify(24)\n",
    "mCC.fit(class_data_train)\n",
    "\n",
    "preds_train = mCC.predict(class_data_train)\n",
    "preds_test = mCC.predict(class_data_test)\n",
    "\n",
    "preds_dist_train = mCC.predict_dist(class_data_train)\n",
    "preds_dist_test = mCC.predict_dist(class_data_test)\n",
    "\n",
    "print(f\"train: {AverageClassify.top_k_accuracy(classes_train, preds_train, 1)}\")\n",
    "print(f\"test: {AverageClassify.top_k_accuracy(classes_test, preds_test, 1)}\")\n",
    "\n",
    "print()\n",
    "print(f\"train: {AverageClassify.top_k_accuracy(classes_train, preds_train, 2)}\")\n",
    "print(f\"test: {AverageClassify.top_k_accuracy(classes_test, preds_test, 2)}\")\n",
    "\n",
    "# AverageClassify.dist_stats(classes_train, preds_dist_train)\n",
    "# AverageClassify.dist_stats(classes_test, preds_dist_test)\n",
    "AverageClassify.plot_accuracy_coverage(classes_test, preds_dist_test)\n",
    "# thold: <10"
   ]
  },
  {
   "cell_type": "code",
   "execution_count": null,
   "metadata": {},
   "outputs": [],
   "source": [
    "mCC = ClusterClassify(20)\n",
    "mCC.fit(class_data_train)\n",
    "\n",
    "preds_train = mCC.predict(class_data_train)\n",
    "preds_test = mCC.predict(class_data_test)\n",
    "\n",
    "print(f\"train: {AverageClassify.top_k_accuracy(classes_train, preds_train, 1)}\")\n",
    "print(f\"test: {AverageClassify.top_k_accuracy(classes_test, preds_test, 1)}\")\n",
    "\n",
    "print()\n",
    "print(f\"train: {AverageClassify.top_k_accuracy(classes_train, preds_train, 2)}\")\n",
    "print(f\"test: {AverageClassify.top_k_accuracy(classes_test, preds_test, 2)}\")"
   ]
  },
  {
   "cell_type": "code",
   "execution_count": null,
   "metadata": {},
   "outputs": [],
   "source": [
    "mCC = RFClassify(16)\n",
    "mCC.fit(class_data_train)\n",
    "\n",
    "preds_train = mCC.predict(class_data_train)\n",
    "preds_test = mCC.predict(class_data_test)\n",
    "\n",
    "preds_prob_train = mCC.predict_prob(class_data_train)\n",
    "preds_prob_test = mCC.predict_prob(class_data_test)\n",
    "\n",
    "print(f\"train: {accuracy_score(classes_train, preds_train)}\")\n",
    "print(f\"test: {accuracy_score(classes_test, preds_test)}\")\n",
    "\n",
    "# AverageClassify.dist_stats(classes_train, preds_prob_train)\n",
    "# AverageClassify.dist_stats(classes_test, preds_prob_test)\n",
    "RFClassify.plot_accuracy_coverage(classes_test, preds_prob_test)\n",
    "# thold: >0.65 (test correct mean)"
   ]
  },
  {
   "cell_type": "code",
   "execution_count": null,
   "metadata": {},
   "outputs": [],
   "source": [
    "mCC = MLPClassify()\n",
    "mCC.fit(class_data_train)\n",
    "\n",
    "preds_train = mCC.predict(class_data_train)\n",
    "preds_test = mCC.predict(class_data_test)\n",
    "\n",
    "preds_prob_train = mCC.predict_prob(class_data_train)\n",
    "preds_prob_test = mCC.predict_prob(class_data_test)\n",
    "\n",
    "print(f\"train: {accuracy_score(classes_train, preds_train)}\")\n",
    "print(f\"test: {accuracy_score(classes_test, preds_test)}\")\n",
    "\n",
    "# AverageClassify.dist_stats(classes_train, preds_prob_train)\n",
    "# AverageClassify.dist_stats(classes_test, preds_prob_test)\n",
    "MLPClassify.plot_accuracy_coverage(classes_test, preds_prob_test)\n",
    "# thold: >0.95\n",
    "\n",
    "print()\n",
    "print(f\"({0.9}): {MLPClassify.thold_accuracy(classes_test, preds_prob_test, 0.9)}\")\n",
    "print(f\"({0.99}): {MLPClassify.thold_accuracy(classes_test, preds_prob_test, 0.99)}\")\n",
    "print(f\"({0.999}): {MLPClassify.thold_accuracy(classes_test, preds_prob_test, 0.999)}\")\n",
    "print(f\"({0.9999}): {MLPClassify.thold_accuracy(classes_test, preds_prob_test, 0.9999)}\")"
   ]
  },
  {
   "cell_type": "code",
   "execution_count": null,
   "metadata": {},
   "outputs": [],
   "source": [
    "mCC = SGDClassify()\n",
    "mCC.fit(class_data_train)\n",
    "\n",
    "preds_train = mCC.predict(class_data_train)\n",
    "preds_test = mCC.predict(class_data_test)\n",
    "\n",
    "preds_prob_train = mCC.predict_prob(class_data_train)\n",
    "preds_prob_test = mCC.predict_prob(class_data_test)\n",
    "\n",
    "print(f\"train: {accuracy_score(classes_train, preds_train)}\")\n",
    "print(f\"test: {accuracy_score(classes_test, preds_test)}\")\n",
    "\n",
    "# AverageClassify.dist_stats(classes_train, preds_prob_train)\n",
    "# AverageClassify.dist_stats(classes_test, preds_prob_test)\n",
    "SGDClassify.plot_accuracy_coverage(classes_test, preds_prob_test)\n",
    "# thold: >0.5"
   ]
  },
  {
   "cell_type": "code",
   "execution_count": null,
   "metadata": {},
   "outputs": [],
   "source": [
    "mCC = GaussianProcessClassify(n_components=256)\n",
    "mCC.fit(class_data_train)\n",
    "\n",
    "preds_train = mCC.predict(class_data_train)\n",
    "preds_test = mCC.predict(class_data_test)\n",
    "\n",
    "preds_prob_train = mCC.predict_prob(class_data_train)\n",
    "preds_prob_test = mCC.predict_prob(class_data_test)\n",
    "\n",
    "print(f\"train: {accuracy_score(classes_train, preds_train)}\")\n",
    "print(f\"test: {accuracy_score(classes_test, preds_test)}\")\n",
    "\n",
    "# AverageClassify.dist_stats(classes_train, preds_prob_train)\n",
    "# AverageClassify.dist_stats(classes_test, preds_prob_test)\n",
    "GaussianProcessClassify.plot_accuracy_coverage(classes_test, preds_prob_test)\n",
    "# thold: ?? Features not gaussian"
   ]
  },
  {
   "cell_type": "code",
   "execution_count": null,
   "metadata": {},
   "outputs": [],
   "source": [
    "mCC = GaussianBayesClassify()\n",
    "mCC.fit(class_data_train)\n",
    "\n",
    "preds_train = mCC.predict(class_data_train)\n",
    "preds_test = mCC.predict(class_data_test)\n",
    "\n",
    "preds_prob_train = mCC.predict_prob(class_data_train)\n",
    "preds_prob_test = mCC.predict_prob(class_data_test)\n",
    "\n",
    "print(f\"train: {accuracy_score(classes_train, preds_train)}\")\n",
    "print(f\"test: {accuracy_score(classes_test, preds_test)}\")\n",
    "\n",
    "# AverageClassify.dist_stats(classes_train, preds_prob_train)\n",
    "# AverageClassify.dist_stats(classes_test, preds_prob_test)\n",
    "GaussianBayesClassify.plot_accuracy_coverage(classes_test, preds_prob_test)\n",
    "# thold: ?? Features not gaussian"
   ]
  }
 ],
 "metadata": {
  "kernelspec": {
   "display_name": "ml",
   "language": "python",
   "name": "python3"
  },
  "language_info": {
   "codemirror_mode": {
    "name": "ipython",
    "version": 3
   },
   "file_extension": ".py",
   "mimetype": "text/x-python",
   "name": "python",
   "nbconvert_exporter": "python",
   "pygments_lexer": "ipython3",
   "version": "3.11.11"
  }
 },
 "nbformat": 4,
 "nbformat_minor": 2
}
