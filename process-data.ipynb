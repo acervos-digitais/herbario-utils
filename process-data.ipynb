{
 "cells": [
  {
   "cell_type": "markdown",
   "metadata": {},
   "source": [
    "# Process Data\n",
    "- Color Information\n",
    "- Embedding Information\n",
    "- Object Detection\n",
    "- Captioning"
   ]
  },
  {
   "cell_type": "code",
   "execution_count": null,
   "metadata": {},
   "outputs": [],
   "source": [
    "from params.collections import MUSEUMS\n",
    "from Museum import Museum"
   ]
  },
  {
   "cell_type": "markdown",
   "metadata": {},
   "source": [
    "### Color Palette"
   ]
  },
  {
   "cell_type": "code",
   "execution_count": null,
   "metadata": {},
   "outputs": [],
   "source": [
    "for name,info in MUSEUMS.items():\n",
    "  print(\"color:\", name)\n",
    "  Museum.get_colors(info)"
   ]
  },
  {
   "cell_type": "markdown",
   "metadata": {},
   "source": [
    "### Embeddings (CLIP)"
   ]
  },
  {
   "cell_type": "code",
   "execution_count": null,
   "metadata": {},
   "outputs": [],
   "source": [
    "for name,info in MUSEUMS.items():\n",
    "  print(\"embeddings:\", name)\n",
    "  Museum.get_embeddings(info, \"clip\")"
   ]
  },
  {
   "cell_type": "markdown",
   "metadata": {},
   "source": [
    "### Embeddings (SigLip2)"
   ]
  },
  {
   "cell_type": "code",
   "execution_count": null,
   "metadata": {},
   "outputs": [],
   "source": [
    "for name,info in MUSEUMS.items():\n",
    "  print(\"embeddings:\", name)\n",
    "  Museum.get_embeddings(info, \"siglip2\")"
   ]
  },
  {
   "cell_type": "markdown",
   "metadata": {},
   "source": [
    "### Objects (Owlv2)"
   ]
  },
  {
   "cell_type": "code",
   "execution_count": null,
   "metadata": {},
   "outputs": [],
   "source": [
    "for name,info in MUSEUMS.items():\n",
    "  print(\"objects:\", name)\n",
    "  Museum.get_objects(info)"
   ]
  },
  {
   "cell_type": "markdown",
   "metadata": {},
   "source": [
    "### Export Object Crop Images"
   ]
  },
  {
   "cell_type": "code",
   "execution_count": null,
   "metadata": {},
   "outputs": [],
   "source": [
    "for name,info in MUSEUMS.items():\n",
    "  print(\"export crops:\", name)\n",
    "  Museum.export_object_crops(info)"
   ]
  },
  {
   "cell_type": "markdown",
   "metadata": {},
   "source": [
    "### Captions (Llama3.2-vision)"
   ]
  },
  {
   "cell_type": "code",
   "execution_count": null,
   "metadata": {},
   "outputs": [],
   "source": [
    "for name,info in MUSEUMS.items():\n",
    "  print(\"caption:\", name)\n",
    "  Museum.get_captions(info, model=\"llama3.2-vision:11b\")"
   ]
  },
  {
   "cell_type": "markdown",
   "metadata": {},
   "source": [
    "### Captions (Gemma3)"
   ]
  },
  {
   "cell_type": "code",
   "execution_count": null,
   "metadata": {},
   "outputs": [],
   "source": [
    "for name,info in MUSEUMS.items():\n",
    "  print(\"caption:\", name)\n",
    "  Museum.get_captions(info, model=\"gemma3:4b\")"
   ]
  },
  {
   "cell_type": "markdown",
   "metadata": {},
   "source": [
    "### Combine and Export JSONs"
   ]
  },
  {
   "cell_type": "code",
   "execution_count": null,
   "metadata": {},
   "outputs": [],
   "source": [
    "for name,info in MUSEUMS.items():\n",
    "  print(\"combine:\", name)\n",
    "  Museum.combine_data(info)"
   ]
  },
  {
   "cell_type": "markdown",
   "metadata": {},
   "source": [
    "### Combine all museum JSONs"
   ]
  },
  {
   "cell_type": "code",
   "execution_count": null,
   "metadata": {},
   "outputs": [],
   "source": [
    "from params.collections import MUSEUMS\n",
    "from Museum import Museum\n",
    "\n",
    "OUT_DIR = \"./metadata/json\"\n",
    "OUT_PREFIX = \"20250619\"\n",
    "DATA_DIRS = [\"embeddings\", \"processed\"]\n",
    "\n",
    "Museum.combine_museums(MUSEUMS, OUT_DIR, OUT_PREFIX, DATA_DIRS)"
   ]
  },
  {
   "cell_type": "markdown",
   "metadata": {},
   "source": [
    "### Export pre-processed data"
   ]
  },
  {
   "cell_type": "code",
   "execution_count": null,
   "metadata": {},
   "outputs": [],
   "source": [
    "import json\n",
    "\n",
    "OUT_PREFIX = \"20250619\"\n",
    "INPUT_FILE_PATH = f\"./metadata/json/{OUT_PREFIX}_processed.json\"\n",
    "OUTPUT_FILE_PATH = f\"./metadata/json/{OUT_PREFIX}_preload.json\"\n",
    "\n",
    "with open(INPUT_FILE_PATH, \"r\") as ifp:\n",
    "  data = json.load(ifp)\n",
    "\n",
    "preload_data = {\n",
    "  \"categories\": {},\n",
    "  \"museums\": {},\n",
    "  \"objects\": {},\n",
    "}\n",
    "\n",
    "for k,v in data.items():\n",
    "  if v[\"museum\"] not in preload_data[\"museums\"]:\n",
    "    preload_data[\"museums\"][v[\"museum\"]] = []\n",
    "  preload_data[\"museums\"][v[\"museum\"]].append(k)\n",
    "\n",
    "  for cat in v[\"categories\"]:\n",
    "    if cat not in preload_data[\"categories\"]:\n",
    "      preload_data[\"categories\"][cat] = []\n",
    "    preload_data[\"categories\"][cat].append(k)\n",
    "\n",
    "  for obj in v[\"objects\"]:\n",
    "    if obj[\"label\"] not in preload_data[\"objects\"]:\n",
    "      preload_data[\"objects\"][obj[\"label\"]] = []\n",
    "    preload_data[\"objects\"][obj[\"label\"]].append(k)\n",
    "\n",
    "with open(OUTPUT_FILE_PATH, \"w\") as ofp:\n",
    "  json.dump(preload_data, ofp, separators=(\",\",\":\"), sort_keys=True, ensure_ascii=False)"
   ]
  },
  {
   "cell_type": "markdown",
   "metadata": {},
   "source": [
    "## Export cluster information\n",
    "\n",
    "### Cluster descriptions using Gemma3"
   ]
  },
  {
   "cell_type": "code",
   "execution_count": null,
   "metadata": {},
   "outputs": [],
   "source": [
    "from data_utils import Clusterer\n",
    "\n",
    "DATA_PREFIX = \"20250619\"\n",
    "IMAGES_PATH = \"../../imgs/arts/500\"\n",
    "\n",
    "Clusterer(DATA_PREFIX, IMAGES_PATH).export_clusters(\"clusters_vlm_10_10.json\", top_images=10, num_images=10)\n",
    "Clusterer(DATA_PREFIX, IMAGES_PATH).export_clusters(\"clusters_vlm_50_10.json\", top_images=50, num_images=10)"
   ]
  },
  {
   "cell_type": "markdown",
   "metadata": {},
   "source": [
    "## Export cluster information\n",
    "\n",
    "### Cluster descriptions using SigLip2"
   ]
  },
  {
   "cell_type": "code",
   "execution_count": null,
   "metadata": {},
   "outputs": [],
   "source": [
    "from data_utils import Clusterer\n",
    "\n",
    "DATA_PREFIX = \"20250619\"\n",
    "IMAGES_PATH = \"../../imgs/arts/500\"\n",
    "\n",
    "Clusterer(DATA_PREFIX, IMAGES_PATH).export_clusters(\"clusters_siglip_32.json\", describe=\"siglip\", num_images=32)\n",
    "Clusterer(DATA_PREFIX, IMAGES_PATH).export_clusters(\"clusters_siglip_100.json\", describe=\"siglip\", num_images=100)\n",
    "Clusterer(DATA_PREFIX, IMAGES_PATH).export_clusters(\"clusters_siglip_200.json\", describe=\"siglip\", num_images=200)"
   ]
  }
 ],
 "metadata": {
  "kernelspec": {
   "display_name": "ml",
   "language": "python",
   "name": "python3"
  },
  "language_info": {
   "codemirror_mode": {
    "name": "ipython",
    "version": 3
   },
   "file_extension": ".py",
   "mimetype": "text/x-python",
   "name": "python",
   "nbconvert_exporter": "python",
   "pygments_lexer": "ipython3",
   "version": "3.10.15"
  }
 },
 "nbformat": 4,
 "nbformat_minor": 2
}
