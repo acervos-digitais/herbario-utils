{
 "cells": [
  {
   "cell_type": "markdown",
   "metadata": {},
   "source": [
    "# Process Data\n",
    "- Color Information\n",
    "- Embedding Information\n",
    "- Object Detection\n",
    "- Captioning"
   ]
  },
  {
   "cell_type": "code",
   "execution_count": null,
   "metadata": {},
   "outputs": [],
   "source": [
    "from params.collections import MUSEUMS\n",
    "from Museum import Museum"
   ]
  },
  {
   "cell_type": "markdown",
   "metadata": {},
   "source": [
    "### Color Palette"
   ]
  },
  {
   "cell_type": "code",
   "execution_count": null,
   "metadata": {},
   "outputs": [],
   "source": [
    "for name,info in MUSEUMS.items():\n",
    "  print(\"color:\", name)\n",
    "  Museum.get_colors(info)"
   ]
  },
  {
   "cell_type": "markdown",
   "metadata": {},
   "source": [
    "### Embeddings (CLIP)"
   ]
  },
  {
   "cell_type": "code",
   "execution_count": null,
   "metadata": {},
   "outputs": [],
   "source": [
    "for name,info in MUSEUMS.items():\n",
    "  print(\"embeddings:\", name)\n",
    "  Museum.get_embeddings(info, \"clip\")"
   ]
  },
  {
   "cell_type": "markdown",
   "metadata": {},
   "source": [
    "### Embeddings (SigLip2)"
   ]
  },
  {
   "cell_type": "code",
   "execution_count": null,
   "metadata": {},
   "outputs": [],
   "source": [
    "for name,info in MUSEUMS.items():\n",
    "  print(\"embeddings:\", name)\n",
    "  Museum.get_embeddings(info, \"siglip2\")"
   ]
  },
  {
   "cell_type": "markdown",
   "metadata": {},
   "source": [
    "### Objects (Owlv2)"
   ]
  },
  {
   "cell_type": "code",
   "execution_count": null,
   "metadata": {},
   "outputs": [],
   "source": [
    "for name,info in MUSEUMS.items():\n",
    "  print(\"objects:\", name)\n",
    "  Museum.get_objects(info)"
   ]
  },
  {
   "cell_type": "markdown",
   "metadata": {},
   "source": [
    "### Captions (Llama3.2-vision)"
   ]
  },
  {
   "cell_type": "code",
   "execution_count": null,
   "metadata": {},
   "outputs": [],
   "source": [
    "for name,info in MUSEUMS.items():\n",
    "  print(\"caption:\", name)\n",
    "  Museum.get_captions(info)"
   ]
  },
  {
   "cell_type": "markdown",
   "metadata": {},
   "source": [
    "### Combine and Export JSONs"
   ]
  },
  {
   "cell_type": "code",
   "execution_count": null,
   "metadata": {},
   "outputs": [],
   "source": [
    "for name,info in MUSEUMS.items():\n",
    "  print(\"combine:\", name)\n",
    "  Museum.combine_data(info)"
   ]
  },
  {
   "cell_type": "markdown",
   "metadata": {},
   "source": [
    "### Combine all JSONs"
   ]
  },
  {
   "cell_type": "code",
   "execution_count": null,
   "metadata": {},
   "outputs": [],
   "source": [
    "import json\n",
    "OUTPUT_FILE = \"./metadata/json/20250422_full.json\"\n",
    "\n",
    "all_data = {}\n",
    "\n",
    "for name,info in MUSEUMS.items():\n",
    "  Museum.prep_dirs(info)\n",
    "\n",
    "  with open(Museum.INFO_PATH.replace(\".json\", \"_full.json\"), \"r\") as ifp:\n",
    "    museum_data = json.load(ifp)\n",
    "  \n",
    "  print(\"reading:\", name, len(museum_data))\n",
    "\n",
    "  repeat_keys = [k for k in museum_data.keys() if k in all_data]\n",
    "  print(\"repeat keys:\", repeat_keys)\n",
    "\n",
    "  all_data |= museum_data\n",
    "\n",
    "print(\"writing\", len(all_data))\n",
    "\n",
    "with open(OUTPUT_FILE, \"w\") as ofp:\n",
    "  json.dump(all_data, ofp, separators=(\",\",\":\"), sort_keys=True, ensure_ascii=False)"
   ]
  }
 ],
 "metadata": {
  "kernelspec": {
   "display_name": "ml",
   "language": "python",
   "name": "python3"
  },
  "language_info": {
   "codemirror_mode": {
    "name": "ipython",
    "version": 3
   },
   "file_extension": ".py",
   "mimetype": "text/x-python",
   "name": "python",
   "nbconvert_exporter": "python",
   "pygments_lexer": "ipython3",
   "version": "3.10.15"
  }
 },
 "nbformat": 4,
 "nbformat_minor": 2
}
