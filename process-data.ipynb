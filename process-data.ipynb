{
 "cells": [
  {
   "cell_type": "markdown",
   "metadata": {},
   "source": [
    "# Process Data\n",
    "- Color Information\n",
    "- Embedding Information\n",
    "- Object Detection\n",
    "- Captioning"
   ]
  },
  {
   "cell_type": "code",
   "execution_count": null,
   "metadata": {},
   "outputs": [],
   "source": [
    "from params.collections import MUSEUMS\n",
    "from Museum import Museum"
   ]
  },
  {
   "cell_type": "markdown",
   "metadata": {},
   "source": [
    "### Color Palette"
   ]
  },
  {
   "cell_type": "code",
   "execution_count": null,
   "metadata": {},
   "outputs": [],
   "source": [
    "for name,info in MUSEUMS.items():\n",
    "  print(\"color:\", name)\n",
    "  Museum.get_colors(info)"
   ]
  },
  {
   "cell_type": "markdown",
   "metadata": {},
   "source": [
    "### Embeddings (CLIP)"
   ]
  },
  {
   "cell_type": "code",
   "execution_count": null,
   "metadata": {},
   "outputs": [],
   "source": [
    "for name,info in MUSEUMS.items():\n",
    "  print(\"embeddings:\", name)\n",
    "  Museum.get_embeddings(info, \"clip\")"
   ]
  },
  {
   "cell_type": "markdown",
   "metadata": {},
   "source": [
    "### Embeddings (SigLip2)"
   ]
  },
  {
   "cell_type": "code",
   "execution_count": null,
   "metadata": {},
   "outputs": [],
   "source": [
    "for name,info in MUSEUMS.items():\n",
    "  print(\"embeddings:\", name)\n",
    "  Museum.get_embeddings(info, \"siglip2\")"
   ]
  },
  {
   "cell_type": "markdown",
   "metadata": {},
   "source": [
    "### Objects (Owlv2)"
   ]
  },
  {
   "cell_type": "code",
   "execution_count": null,
   "metadata": {},
   "outputs": [],
   "source": [
    "for name,info in MUSEUMS.items():\n",
    "  print(\"objects:\", name)\n",
    "  Museum.get_objects(info)"
   ]
  },
  {
   "cell_type": "markdown",
   "metadata": {},
   "source": [
    "### Export Object Crop Images"
   ]
  },
  {
   "cell_type": "code",
   "execution_count": null,
   "metadata": {},
   "outputs": [],
   "source": [
    "for name,info in MUSEUMS.items():\n",
    "  print(\"export crops:\", name)\n",
    "  Museum.export_object_crops(info)"
   ]
  },
  {
   "cell_type": "markdown",
   "metadata": {},
   "source": [
    "### Captions (Llama3.2-vision)"
   ]
  },
  {
   "cell_type": "code",
   "execution_count": null,
   "metadata": {},
   "outputs": [],
   "source": [
    "for name,info in MUSEUMS.items():\n",
    "  print(\"caption:\", name)\n",
    "  Museum.get_captions(info, model=\"llama3.2-vision:11b\")"
   ]
  },
  {
   "cell_type": "markdown",
   "metadata": {},
   "source": [
    "### Captions (Gemma3)"
   ]
  },
  {
   "cell_type": "code",
   "execution_count": null,
   "metadata": {},
   "outputs": [],
   "source": [
    "for name,info in MUSEUMS.items():\n",
    "  print(\"caption:\", name)\n",
    "  Museum.get_captions(info, model=\"gemma3:4b\")"
   ]
  },
  {
   "cell_type": "markdown",
   "metadata": {},
   "source": [
    "### Combine and Export JSONs"
   ]
  },
  {
   "cell_type": "code",
   "execution_count": null,
   "metadata": {},
   "outputs": [],
   "source": [
    "for name,info in MUSEUMS.items():\n",
    "  print(\"combine:\", name)\n",
    "  Museum.combine_data(info)"
   ]
  },
  {
   "cell_type": "markdown",
   "metadata": {},
   "source": [
    "## Combine Data"
   ]
  },
  {
   "cell_type": "markdown",
   "metadata": {},
   "source": [
    "### Combine all museum JSONs"
   ]
  },
  {
   "cell_type": "code",
   "execution_count": null,
   "metadata": {},
   "outputs": [],
   "source": [
    "from params.collections import MUSEUMS\n",
    "from Museum import Museum\n",
    "\n",
    "OUT_DIR = \"./metadata/json\"\n",
    "OUT_PREFIX = \"20250619\"\n",
    "DATA_DIRS = [\"embeddings\", \"processed\"]\n",
    "\n",
    "Museum.combine_museums(MUSEUMS, OUT_DIR, OUT_PREFIX, DATA_DIRS)"
   ]
  },
  {
   "cell_type": "markdown",
   "metadata": {},
   "source": [
    "### Export pre-processed data"
   ]
  },
  {
   "cell_type": "code",
   "execution_count": null,
   "metadata": {},
   "outputs": [],
   "source": [
    "from utils.data_utils import export_preload_data\n",
    "\n",
    "DATA_PREFIX = \"20250619\"\n",
    "export_preload_data(DATA_PREFIX, [\"categories\", \"museum\", \"objects\"], \"preload.json\")"
   ]
  },
  {
   "cell_type": "markdown",
   "metadata": {},
   "source": [
    "### Export cluster information (with cluster descriptions using Gemma3)"
   ]
  },
  {
   "cell_type": "code",
   "execution_count": null,
   "metadata": {},
   "outputs": [],
   "source": [
    "from utils.data_utils import Clusterer\n",
    "\n",
    "DATA_PREFIX = \"20250619\"\n",
    "IMAGES_PATH = \"../../imgs/arts/500\"\n",
    "\n",
    "Clusterer(DATA_PREFIX, IMAGES_PATH).export_clusters(\"clusters_vlm_10_10.json\", describe=\"gemma3\")"
   ]
  },
  {
   "cell_type": "markdown",
   "metadata": {},
   "source": [
    "### Export cluster information (with cluster descriptions using SigLip2)"
   ]
  },
  {
   "cell_type": "code",
   "execution_count": null,
   "metadata": {},
   "outputs": [],
   "source": [
    "from utils.data_utils import Clusterer\n",
    "\n",
    "DATA_PREFIX = \"20250619\"\n",
    "IMAGES_PATH = \"../../imgs/arts/500\"\n",
    "\n",
    "Clusterer(DATA_PREFIX, IMAGES_PATH).export_clusters(\"clusters_siglip.json\", describe=\"siglip\")"
   ]
  },
  {
   "cell_type": "markdown",
   "metadata": {},
   "source": [
    "### Export cluster information (with cluster descriptions using Gemma3 and SigLip2)"
   ]
  },
  {
   "cell_type": "code",
   "execution_count": null,
   "metadata": {},
   "outputs": [],
   "source": [
    "from utils.data_utils import Clusterer\n",
    "\n",
    "DATA_PREFIX = \"20250619\"\n",
    "IMAGES_PATH = \"../../imgs/arts/500\"\n",
    "\n",
    "Clusterer(DATA_PREFIX, IMAGES_PATH).export_clusters(\"clusters.json\")"
   ]
  }
 ],
 "metadata": {
  "kernelspec": {
   "display_name": "ml",
   "language": "python",
   "name": "python3"
  },
  "language_info": {
   "codemirror_mode": {
    "name": "ipython",
    "version": 3
   },
   "file_extension": ".py",
   "mimetype": "text/x-python",
   "name": "python",
   "nbconvert_exporter": "python",
   "pygments_lexer": "ipython3",
   "version": "3.10.15"
  }
 },
 "nbformat": 4,
 "nbformat_minor": 2
}
