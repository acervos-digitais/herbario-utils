{
 "cells": [
  {
   "cell_type": "markdown",
   "metadata": {},
   "source": [
    "# Process Data\n",
    "- Color Information\n",
    "- Embedding Information\n",
    "- Object Detection\n",
    "- Captioning"
   ]
  },
  {
   "cell_type": "code",
   "execution_count": null,
   "metadata": {},
   "outputs": [],
   "source": [
    "from params.collections import MUSEUMS\n",
    "from Museum import Museum"
   ]
  },
  {
   "cell_type": "markdown",
   "metadata": {},
   "source": [
    "### Color Palette"
   ]
  },
  {
   "cell_type": "code",
   "execution_count": null,
   "metadata": {},
   "outputs": [],
   "source": [
    "for name,info in MUSEUMS.items():\n",
    "  print(\"color:\", name)\n",
    "  Museum.get_colors(info)"
   ]
  },
  {
   "cell_type": "markdown",
   "metadata": {},
   "source": [
    "### Embeddings (CLIP)"
   ]
  },
  {
   "cell_type": "code",
   "execution_count": null,
   "metadata": {},
   "outputs": [],
   "source": [
    "for name,info in MUSEUMS.items():\n",
    "  print(\"embeddings:\", name)\n",
    "  Museum.get_embeddings(info, \"clip\")"
   ]
  },
  {
   "cell_type": "markdown",
   "metadata": {},
   "source": [
    "### Embeddings (SigLip2)"
   ]
  },
  {
   "cell_type": "code",
   "execution_count": null,
   "metadata": {},
   "outputs": [],
   "source": [
    "for name,info in MUSEUMS.items():\n",
    "  print(\"embeddings:\", name)\n",
    "  Museum.get_embeddings(info, \"siglip2\")"
   ]
  },
  {
   "cell_type": "markdown",
   "metadata": {},
   "source": [
    "### Objects (Owlv2)"
   ]
  },
  {
   "cell_type": "code",
   "execution_count": null,
   "metadata": {},
   "outputs": [],
   "source": [
    "for name,info in MUSEUMS.items():\n",
    "  print(\"objects:\", name)\n",
    "  Museum.get_objects(info)"
   ]
  },
  {
   "cell_type": "markdown",
   "metadata": {},
   "source": [
    "### Export Object Crop Images"
   ]
  },
  {
   "cell_type": "code",
   "execution_count": null,
   "metadata": {},
   "outputs": [],
   "source": [
    "for name,info in MUSEUMS.items():\n",
    "  print(\"export crops:\", name)\n",
    "  Museum.export_object_crops(info)"
   ]
  },
  {
   "cell_type": "markdown",
   "metadata": {},
   "source": [
    "### Captions (Llama3.2-vision)"
   ]
  },
  {
   "cell_type": "code",
   "execution_count": null,
   "metadata": {},
   "outputs": [],
   "source": [
    "for name,info in MUSEUMS.items():\n",
    "  print(\"caption:\", name)\n",
    "  Museum.get_captions(info, model=\"llama3.2-vision:11b\")"
   ]
  },
  {
   "cell_type": "markdown",
   "metadata": {},
   "source": [
    "### Captions (Gemma3)"
   ]
  },
  {
   "cell_type": "code",
   "execution_count": null,
   "metadata": {},
   "outputs": [],
   "source": [
    "for name,info in MUSEUMS.items():\n",
    "  print(\"caption:\", name)\n",
    "  Museum.get_captions(info, model=\"gemma3:4b\")"
   ]
  },
  {
   "cell_type": "markdown",
   "metadata": {},
   "source": [
    "### Combine and Export JSONs"
   ]
  },
  {
   "cell_type": "code",
   "execution_count": null,
   "metadata": {},
   "outputs": [],
   "source": [
    "for name,info in MUSEUMS.items():\n",
    "  print(\"combine:\", name)\n",
    "  Museum.combine_data(info)"
   ]
  },
  {
   "cell_type": "markdown",
   "metadata": {},
   "source": [
    "### Combine all museum JSONs"
   ]
  },
  {
   "cell_type": "code",
   "execution_count": null,
   "metadata": {},
   "outputs": [],
   "source": [
    "from params.collections import MUSEUMS\n",
    "from Museum import Museum\n",
    "\n",
    "OUT_DIR = \"./metadata/json\"\n",
    "OUT_PREFIX = \"20250619\"\n",
    "DATA_DIRS = [\"embeddings\", \"processed\"]\n",
    "\n",
    "Museum.combine_museums(MUSEUMS, OUT_DIR, OUT_PREFIX, DATA_DIRS)"
   ]
  },
  {
   "cell_type": "markdown",
   "metadata": {},
   "source": [
    "### Export pre-processed data"
   ]
  },
  {
   "cell_type": "code",
   "execution_count": null,
   "metadata": {},
   "outputs": [],
   "source": [
    "import json\n",
    "\n",
    "OUT_PREFIX = \"20250619\"\n",
    "INPUT_FILE_PATH = f\"./metadata/json/{OUT_PREFIX}_processed.json\"\n",
    "OUTPUT_FILE_PATH = f\"./metadata/json/{OUT_PREFIX}_preload.json\"\n",
    "\n",
    "with open(INPUT_FILE_PATH, \"r\") as ifp:\n",
    "  data = json.load(ifp)\n",
    "\n",
    "preload_data = {\n",
    "  \"categories\": {},\n",
    "  \"museums\": {},\n",
    "  \"objects\": {},\n",
    "}\n",
    "\n",
    "for k,v in data.items():\n",
    "  if v[\"museum\"] not in preload_data[\"museums\"]:\n",
    "    preload_data[\"museums\"][v[\"museum\"]] = []\n",
    "  preload_data[\"museums\"][v[\"museum\"]].append(k)\n",
    "\n",
    "  for cat in v[\"categories\"]:\n",
    "    if cat not in preload_data[\"categories\"]:\n",
    "      preload_data[\"categories\"][cat] = []\n",
    "    preload_data[\"categories\"][cat].append(k)\n",
    "\n",
    "  for obj in v[\"objects\"]:\n",
    "    if obj[\"label\"] not in preload_data[\"objects\"]:\n",
    "      preload_data[\"objects\"][obj[\"label\"]] = []\n",
    "    preload_data[\"objects\"][obj[\"label\"]].append(k)\n",
    "\n",
    "with open(OUTPUT_FILE_PATH, \"w\") as ofp:\n",
    "  json.dump(preload_data, ofp, separators=(\",\",\":\"), sort_keys=True, ensure_ascii=False)"
   ]
  },
  {
   "cell_type": "markdown",
   "metadata": {},
   "source": [
    "## Export cluster information\n",
    "\n",
    "### Cluster descriptions using Gemma3"
   ]
  },
  {
   "cell_type": "code",
   "execution_count": null,
   "metadata": {},
   "outputs": [],
   "source": [
    "import json\n",
    "import numpy as np\n",
    "\n",
    "from os import path\n",
    "from sklearn.metrics.pairwise import euclidean_distances\n",
    "\n",
    "from clustering import tsne_kmeans\n",
    "from models.LlamaVision import LlamaVision\n",
    "\n",
    "OUT_PREFIX = \"20250619\"\n",
    "IMAGES_PATH = \"../../imgs/arts/500\"\n",
    "EMBEDDING_FILE_PATH = f\"./metadata/json/{OUT_PREFIX}_embeddings.json\"\n",
    "OUTPUT_FILE_PATH = f\"./metadata/json/{OUT_PREFIX}_clusters.json\"\n",
    "\n",
    "with open(EMBEDDING_FILE_PATH, \"r\") as ifp:\n",
    "  data = json.load(ifp)\n",
    "\n",
    "ids = np.array(list(data.keys()))\n",
    "embeddings = np.array([v[\"siglip2\"] for v in data.values()])\n",
    "\n",
    "cluster_data = {}\n",
    "\n",
    "llama = LlamaVision()\n",
    "\n",
    "for n in range(2, 17, 2):\n",
    "  print(n, \"clusters...\")\n",
    "  embs, clusters, centers = tsne_kmeans(embeddings, n_clusters=n)\n",
    "  cluster_distances = euclidean_distances(centers, embs)\n",
    "  id_idxs_by_distance = cluster_distances.argsort(axis=1)\n",
    "\n",
    "  i_c_d = zip(ids.tolist(), clusters.tolist(), cluster_distances.T.tolist())\n",
    "\n",
    "  cluster_data[n] = {\n",
    "    \"images\": {id: {\"cluster\": c, \"distances\": [round(d,6) for d in ds]} for  id,c,ds in i_c_d},\n",
    "    \"clusters\": {\"descriptions\": {\"pt\": [], \"en\": []}}\n",
    "  }\n",
    "\n",
    "  ids_to_describe = ids[id_idxs_by_distance[:, :100:10]]\n",
    "\n",
    "  for c in range(n):\n",
    "    img_paths = [path.join(IMAGES_PATH, f\"{id}.jpg\") for id in ids_to_describe[c]]\n",
    "    for lang in cluster_data[n][\"clusters\"][\"descriptions\"].keys():\n",
    "      words = llama.common(img_paths, lang=lang)\n",
    "      cluster_data[n][\"clusters\"][\"descriptions\"][lang].append(words)\n",
    "\n",
    "with open(OUTPUT_FILE_PATH, \"w\") as ofp:\n",
    "  json.dump(cluster_data, ofp, separators=(\",\",\":\"), sort_keys=True, ensure_ascii=False)"
   ]
  },
  {
   "cell_type": "markdown",
   "metadata": {},
   "source": [
    "## Export cluster information\n",
    "\n",
    "### Cluster descriptions using SigLip2"
   ]
  },
  {
   "cell_type": "code",
   "execution_count": null,
   "metadata": {},
   "outputs": [],
   "source": [
    "import json\n",
    "import numpy as np\n",
    "\n",
    "from os import path\n",
    "from sklearn.metrics.pairwise import euclidean_distances\n",
    "\n",
    "from clustering import tsne_kmeans\n",
    "from data_utils import get_caption_words\n",
    "\n",
    "from models.SigLip2 import SigLip2\n",
    "\n",
    "OUT_PREFIX = \"20250619\"\n",
    "IMAGES_PATH = \"../../imgs/arts/500\"\n",
    "DATA_FILE_PATH = f\"./metadata/json/{OUT_PREFIX}_processed.json\"\n",
    "EMBEDDING_FILE_PATH = f\"./metadata/json/{OUT_PREFIX}_embeddings.json\"\n",
    "OUTPUT_FILE_PATH = f\"./metadata/json/{OUT_PREFIX}_clusters_siglip.json\"\n",
    "\n",
    "with open(EMBEDDING_FILE_PATH, \"r\") as ifp:\n",
    "  data = json.load(ifp)\n",
    "\n",
    "ids = np.array(list(data.keys()))\n",
    "embeddings = np.array([v[\"siglip2\"] for v in data.values()])\n",
    "\n",
    "words_en = get_caption_words(DATA_FILE_PATH, lang=\"en\", categories=[\"people\", \"fauna\", \"flora\"])\n",
    "words_pt = get_caption_words(DATA_FILE_PATH, lang=\"pt\", categories=[\"people\", \"fauna\", \"flora\"])\n",
    "\n",
    "cluster_data = {}\n",
    "\n",
    "siglip = SigLip2()\n",
    "\n",
    "for n in range(2, 17, 2):\n",
    "  print(n, \"clusters...\")\n",
    "  embs, clusters, centers = tsne_kmeans(embeddings, n_clusters=n)\n",
    "  cluster_distances = euclidean_distances(centers, embs)\n",
    "  id_idxs_by_distance = cluster_distances.argsort(axis=1)\n",
    "\n",
    "  i_c_d = zip(ids.tolist(), clusters.tolist(), cluster_distances.T.tolist())\n",
    "\n",
    "  cluster_data[n] = {\n",
    "    \"images\": {id: {\"cluster\": c, \"distances\": [round(d,6) for d in ds]} for  id,c,ds in i_c_d},\n",
    "    \"clusters\": {\"descriptions\": {\"pt\": [], \"en\": []}}\n",
    "  }\n",
    "\n",
    "  ids_to_avg = ids[id_idxs_by_distance[:, :128]]\n",
    "  embeddings_to_avg = np.array([[data[id][\"siglip2\"] for id in ids] for ids in ids_to_avg])\n",
    "  embeddings_avg = embeddings_to_avg.mean(axis=1)\n",
    "\n",
    "  for c in range(n):\n",
    "    img_tags_en = siglip.zero_shot(embeddings_avg[c], words_en[:500])\n",
    "    img_tags_pt = siglip.zero_shot(embeddings_avg[c], words_pt[:500], prefix=\"pintura mostrando\")\n",
    "    cluster_data[n][\"clusters\"][\"descriptions\"][\"en\"].append(img_tags_en[:10])\n",
    "    cluster_data[n][\"clusters\"][\"descriptions\"][\"pt\"].append(img_tags_pt[:10])\n",
    "\n",
    "with open(OUTPUT_FILE_PATH, \"w\") as ofp:\n",
    "  json.dump(cluster_data, ofp, separators=(\",\",\":\"), sort_keys=True, ensure_ascii=False)"
   ]
  }
 ],
 "metadata": {
  "kernelspec": {
   "display_name": "ml",
   "language": "python",
   "name": "python3"
  },
  "language_info": {
   "codemirror_mode": {
    "name": "ipython",
    "version": 3
   },
   "file_extension": ".py",
   "mimetype": "text/x-python",
   "name": "python",
   "nbconvert_exporter": "python",
   "pygments_lexer": "ipython3",
   "version": "3.10.15"
  }
 },
 "nbformat": 4,
 "nbformat_minor": 2
}
