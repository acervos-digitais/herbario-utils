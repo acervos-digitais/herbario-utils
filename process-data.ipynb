{
 "cells": [
  {
   "cell_type": "markdown",
   "metadata": {},
   "source": [
    "# Process Data\n",
    "- Color Information\n",
    "- Embedding Information\n",
    "- Object Detection\n",
    "- Captioning"
   ]
  },
  {
   "cell_type": "code",
   "execution_count": null,
   "metadata": {},
   "outputs": [],
   "source": [
    "from Museum import Museum\n",
    "from params.collections import MUSEUMS"
   ]
  },
  {
   "cell_type": "markdown",
   "metadata": {},
   "source": [
    "### Color Palette"
   ]
  },
  {
   "cell_type": "code",
   "execution_count": null,
   "metadata": {},
   "outputs": [],
   "source": [
    "for name,info in MUSEUMS.items():\n",
    "  print(\"color:\", name)\n",
    "  Museum.get_colors(info)"
   ]
  },
  {
   "cell_type": "markdown",
   "metadata": {},
   "source": [
    "### Embeddings (CLIP)"
   ]
  },
  {
   "cell_type": "code",
   "execution_count": null,
   "metadata": {},
   "outputs": [],
   "source": [
    "for name,info in MUSEUMS.items():\n",
    "  print(\"embeddings:\", name)\n",
    "  Museum.get_embeddings(info, \"clip\")"
   ]
  },
  {
   "cell_type": "markdown",
   "metadata": {},
   "source": [
    "### Embeddings (SigLip2)"
   ]
  },
  {
   "cell_type": "code",
   "execution_count": null,
   "metadata": {},
   "outputs": [],
   "source": [
    "for name,info in MUSEUMS.items():\n",
    "  print(\"embeddings:\", name)\n",
    "  Museum.get_embeddings(info, \"siglip2\")"
   ]
  },
  {
   "cell_type": "markdown",
   "metadata": {},
   "source": [
    "### Objects (Owlv2)"
   ]
  },
  {
   "cell_type": "code",
   "execution_count": null,
   "metadata": {},
   "outputs": [],
   "source": [
    "for name,info in MUSEUMS.items():\n",
    "  print(\"objects:\", name)\n",
    "  Museum.get_objects(info)"
   ]
  },
  {
   "cell_type": "markdown",
   "metadata": {},
   "source": [
    "### Export Object Crop Images"
   ]
  },
  {
   "cell_type": "code",
   "execution_count": null,
   "metadata": {},
   "outputs": [],
   "source": [
    "for name,info in MUSEUMS.items():\n",
    "  print(\"export crops:\", name)\n",
    "  Museum.export_object_crops(info)"
   ]
  },
  {
   "cell_type": "markdown",
   "metadata": {},
   "source": [
    "### Captions (Llama3.2-vision)"
   ]
  },
  {
   "cell_type": "code",
   "execution_count": null,
   "metadata": {},
   "outputs": [],
   "source": [
    "for name,info in MUSEUMS.items():\n",
    "  print(\"caption:\", name)\n",
    "  Museum.get_captions(info, model=\"llama3.2-vision:11b\")"
   ]
  },
  {
   "cell_type": "markdown",
   "metadata": {},
   "source": [
    "### Captions (Gemma3)"
   ]
  },
  {
   "cell_type": "code",
   "execution_count": null,
   "metadata": {},
   "outputs": [],
   "source": [
    "for name,info in MUSEUMS.items():\n",
    "  print(\"caption:\", name)\n",
    "  Museum.get_captions(info, model=\"gemma3:4b\")"
   ]
  },
  {
   "cell_type": "markdown",
   "metadata": {},
   "source": [
    "### Combine and Export JSONs"
   ]
  },
  {
   "cell_type": "code",
   "execution_count": null,
   "metadata": {},
   "outputs": [],
   "source": [
    "for name,info in MUSEUMS.items():\n",
    "  print(\"combine:\", name)\n",
    "  Museum.combine_data(info)"
   ]
  },
  {
   "cell_type": "markdown",
   "metadata": {},
   "source": [
    "## Combine Data"
   ]
  },
  {
   "cell_type": "markdown",
   "metadata": {},
   "source": [
    "### Combine all museum JSONs (and add tsne embeddings)"
   ]
  },
  {
   "cell_type": "code",
   "execution_count": null,
   "metadata": {},
   "outputs": [],
   "source": [
    "from Museum import Museum\n",
    "from params.collections import MUSEUMS\n",
    "\n",
    "from utils.data_utils import get_tsne_embeddings\n",
    "\n",
    "OUT_PREFIX = \"20250705\"\n",
    "OUT_DIR = \"./metadata/json\"\n",
    "DATA_DIRS = [\"processed\"]\n",
    "\n",
    "embedding_data = Museum.combine_all_data(MUSEUMS, \"embeddings\")\n",
    "tsne_embeddings = get_tsne_embeddings(embedding_data)\n",
    "\n",
    "extra_data = {\n",
    "  \"processed\" : tsne_embeddings\n",
    "}\n",
    "\n",
    "Museum.combine_museums(MUSEUMS, OUT_DIR, OUT_PREFIX, DATA_DIRS, extra_data)"
   ]
  },
  {
   "cell_type": "markdown",
   "metadata": {},
   "source": [
    "### Add image ratios"
   ]
  },
  {
   "cell_type": "code",
   "execution_count": null,
   "metadata": {},
   "outputs": [],
   "source": [
    "import json\n",
    "\n",
    "from utils.data_utils import get_image_ratios\n",
    "\n",
    "OUT_PREFIX = \"20250705\"\n",
    "OUT_DIR = \"./metadata/json\"\n",
    "IMGS_DIR = \"../../imgs/arts/100\"\n",
    "DATA_FILE = f\"{OUT_DIR}/{OUT_PREFIX}_processed.json\"\n",
    "\n",
    "ratioH_data = get_image_ratios(IMGS_DIR)\n",
    "\n",
    "with open(DATA_FILE, \"r\", encoding=\"utf-8\") as ifp:\n",
    "  all_data = json.load(ifp)\n",
    "\n",
    "for k,v in all_data.items():\n",
    "  if k in ratioH_data:\n",
    "    all_data[k][\"image\"] = {\n",
    "      \"image\": all_data[k][\"image\"],\n",
    "      \"ratio\": ratioH_data[k]\n",
    "    }\n",
    "  else:\n",
    "    print(k, \"not in ratioH_data\")\n",
    "\n",
    "with open(DATA_FILE, \"w\", encoding=\"utf-8\") as ofp:\n",
    "  json.dump(all_data, ofp, separators=(\",\",\":\"), sort_keys=True, ensure_ascii=False)"
   ]
  },
  {
   "cell_type": "markdown",
   "metadata": {},
   "source": [
    "### ~~Combine all museum JSONs~~"
   ]
  },
  {
   "cell_type": "code",
   "execution_count": null,
   "metadata": {},
   "outputs": [],
   "source": [
    "from Museum import Museum\n",
    "from params.collections import MUSEUMS\n",
    "\n",
    "OUT_PREFIX = \"20250705\"\n",
    "OUT_DIR = \"./metadata/json\"\n",
    "DATA_DIRS = [\"processed\"]\n",
    "\n",
    "Museum.combine_museums(MUSEUMS, OUT_DIR, OUT_PREFIX, DATA_DIRS)"
   ]
  },
  {
   "cell_type": "markdown",
   "metadata": {},
   "source": [
    "### Export cluster information (with cluster descriptions using Gemma3 and SigLip2)"
   ]
  },
  {
   "cell_type": "code",
   "execution_count": null,
   "metadata": {},
   "outputs": [],
   "source": [
    "from Museum import Museum\n",
    "\n",
    "from params.collections import MUSEUMS\n",
    "from utils.data_utils import Clusterer\n",
    "\n",
    "OUT_PREFIX = \"20250705\"\n",
    "IMAGES_PATH = \"../../imgs/arts/500\"\n",
    "\n",
    "embedding_data = Museum.combine_all_data(MUSEUMS, \"embeddings\")\n",
    "\n",
    "Clusterer(embedding_data, OUT_PREFIX, IMAGES_PATH).export_clusters(\"clusters.json\")"
   ]
  },
  {
   "cell_type": "markdown",
   "metadata": {},
   "source": [
    "### Export to HuggingFace"
   ]
  },
  {
   "cell_type": "code",
   "execution_count": null,
   "metadata": {},
   "outputs": [],
   "source": [
    "import json\n",
    "from Museum import Museum\n",
    "from params.collections import MUSEUMS\n",
    "\n",
    "from datasets import Dataset\n",
    "from huggingface_hub import login as hf_login\n",
    "\n",
    "PREFIX = \"20250705\"\n",
    "DATA_DIR = \"./metadata/json\"\n",
    "DATA_FILE = f\"{DATA_DIR}/{PREFIX}_processed.json\"\n",
    "CLUSTER_FILE = f\"{DATA_DIR}/{PREFIX}_clusters.json\"\n",
    "\n",
    "embedding_data = Museum.combine_all_data(MUSEUMS, \"embeddings\")\n",
    "\n",
    "with open(DATA_FILE, \"r\", encoding=\"utf-8\") as ifp:\n",
    "  all_data = json.load(ifp)\n",
    "\n",
    "with open(CLUSTER_FILE, \"r\", encoding=\"utf-8\") as ifp:\n",
    "  cluster_data_all = json.load(ifp)\n",
    "  cluster_data = cluster_data_all[\"8\"][\"images\"]\n",
    "\n",
    "\n",
    "for id in all_data.keys():\n",
    "  for emb in embedding_data[id].keys():\n",
    "    all_data[id][\"embeddings\"][emb] = embedding_data[id][emb]\n",
    "  all_data[id][\"clusters\"] = {\n",
    "    \"distances\": cluster_data[id][\"distances\"],\n",
    "  }\n",
    "  all_data[id][\"id\"] = str(all_data[id][\"id\"])"
   ]
  },
  {
   "cell_type": "code",
   "execution_count": null,
   "metadata": {},
   "outputs": [],
   "source": [
    "hf_login()"
   ]
  },
  {
   "cell_type": "code",
   "execution_count": null,
   "metadata": {},
   "outputs": [],
   "source": [
    "ds = Dataset.from_list(list(all_data.values()))\n",
    "ds.push_to_hub(\"acervos-digitais/meta-acervos-data\")"
   ]
  }
 ],
 "metadata": {
  "kernelspec": {
   "display_name": "ml",
   "language": "python",
   "name": "python3"
  },
  "language_info": {
   "codemirror_mode": {
    "name": "ipython",
    "version": 3
   },
   "file_extension": ".py",
   "mimetype": "text/x-python",
   "name": "python",
   "nbconvert_exporter": "python",
   "pygments_lexer": "ipython3",
   "version": "3.10.15"
  }
 },
 "nbformat": 4,
 "nbformat_minor": 2
}
