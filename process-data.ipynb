{
 "cells": [
  {
   "cell_type": "markdown",
   "metadata": {},
   "source": [
    "# Process Data\n",
    "- Color Information\n",
    "- Embedding Information\n",
    "- Object Detection\n",
    "- Captioning"
   ]
  },
  {
   "cell_type": "code",
   "execution_count": null,
   "metadata": {},
   "outputs": [],
   "source": [
    "from params.collections import MUSEUMS\n",
    "from Museum import Museum"
   ]
  },
  {
   "cell_type": "markdown",
   "metadata": {},
   "source": [
    "### Color Palette"
   ]
  },
  {
   "cell_type": "code",
   "execution_count": null,
   "metadata": {},
   "outputs": [],
   "source": [
    "for name,info in MUSEUMS.items():\n",
    "  print(\"color:\", name)\n",
    "  Museum.get_colors(info)"
   ]
  },
  {
   "cell_type": "markdown",
   "metadata": {},
   "source": [
    "### Embeddings (CLIP)"
   ]
  },
  {
   "cell_type": "code",
   "execution_count": null,
   "metadata": {},
   "outputs": [],
   "source": [
    "for name,info in MUSEUMS.items():\n",
    "  print(\"embeddings:\", name)\n",
    "  Museum.get_embeddings(info, \"clip\")"
   ]
  },
  {
   "cell_type": "markdown",
   "metadata": {},
   "source": [
    "### Embeddings (SigLip2)"
   ]
  },
  {
   "cell_type": "code",
   "execution_count": null,
   "metadata": {},
   "outputs": [],
   "source": [
    "for name,info in MUSEUMS.items():\n",
    "  print(\"embeddings:\", name)\n",
    "  Museum.get_embeddings(info, \"siglip2\")"
   ]
  },
  {
   "cell_type": "markdown",
   "metadata": {},
   "source": [
    "### Objects (Owlv2)"
   ]
  },
  {
   "cell_type": "code",
   "execution_count": null,
   "metadata": {},
   "outputs": [],
   "source": [
    "for name,info in MUSEUMS.items():\n",
    "  print(\"objects:\", name)\n",
    "  Museum.get_objects(info)"
   ]
  },
  {
   "cell_type": "markdown",
   "metadata": {},
   "source": [
    "### Captions (Llama3.2-vision)"
   ]
  },
  {
   "cell_type": "code",
   "execution_count": null,
   "metadata": {},
   "outputs": [],
   "source": [
    "for name,info in MUSEUMS.items():\n",
    "  print(\"caption:\", name)\n",
    "  Museum.get_captions(info)"
   ]
  },
  {
   "cell_type": "markdown",
   "metadata": {},
   "source": [
    "### Combine and Export JSONs"
   ]
  },
  {
   "cell_type": "code",
   "execution_count": null,
   "metadata": {},
   "outputs": [],
   "source": [
    "for name,info in MUSEUMS.items():\n",
    "  print(\"combine:\", name)\n",
    "  Museum.combine_data(info)"
   ]
  },
  {
   "cell_type": "markdown",
   "metadata": {},
   "source": [
    "### Combine all JSONs"
   ]
  },
  {
   "cell_type": "code",
   "execution_count": null,
   "metadata": {},
   "outputs": [],
   "source": [
    "import json\n",
    "\n",
    "from params.collections import MUSEUMS\n",
    "from Museum import Museum\n",
    "\n",
    "OUTPUT_FILE_TEMPLATE = \"./metadata/json/20250515_XTYPEX.json\"\n",
    "\n",
    "for out_type in [\"embeddings\", \"full\", \"no-embeddings\"]:\n",
    "  output_file_path = OUTPUT_FILE_TEMPLATE.replace(\"XTYPEX\", out_type)\n",
    "  all_data = {}\n",
    "\n",
    "  for name,info in MUSEUMS.items():\n",
    "    Museum.prep_dirs(info)\n",
    "\n",
    "    with open(Museum.INFO_PATH.replace(\".json\", f\"_{out_type}.json\"), \"r\") as ifp:\n",
    "      museum_data = json.load(ifp)\n",
    "    \n",
    "    print(\"reading:\", name, len(museum_data))\n",
    "\n",
    "    repeat_keys = [k for k in museum_data.keys() if k in all_data]\n",
    "    print(\"repeat keys:\", repeat_keys)\n",
    "\n",
    "    all_data |= museum_data\n",
    "\n",
    "  print(\"writing\", len(all_data))\n",
    "\n",
    "  with open(output_file_path, \"w\") as ofp:\n",
    "    json.dump(all_data, ofp, separators=(\",\",\":\"), sort_keys=True, ensure_ascii=False)"
   ]
  },
  {
   "cell_type": "markdown",
   "metadata": {},
   "source": [
    "### Export pre-processed data"
   ]
  },
  {
   "cell_type": "code",
   "execution_count": null,
   "metadata": {},
   "outputs": [],
   "source": [
    "import json\n",
    "\n",
    "INPUT_FILE_PATH = \"./metadata/json/20250515_no-embeddings.json\"\n",
    "OUTPUT_FILE_PATH = \"./metadata/json/20250515_preload.json\"\n",
    "\n",
    "with open(INPUT_FILE_PATH, \"r\") as ifp:\n",
    "  data = json.load(ifp)\n",
    "\n",
    "preload_data = {\n",
    "  \"categories\": {},\n",
    "  \"museums\": {},\n",
    "  \"objects\": {},\n",
    "}\n",
    "\n",
    "for k,v in data.items():\n",
    "  if v[\"museum\"] not in preload_data[\"museums\"]:\n",
    "    preload_data[\"museums\"][v[\"museum\"]] = []\n",
    "  preload_data[\"museums\"][v[\"museum\"]].append(k)\n",
    "\n",
    "  for cat in v[\"categories\"]:\n",
    "    if cat not in preload_data[\"categories\"]:\n",
    "      preload_data[\"categories\"][cat] = []\n",
    "    preload_data[\"categories\"][cat].append(k)\n",
    "\n",
    "  for obj in v[\"objects\"]:\n",
    "    if obj[\"label\"] not in preload_data[\"objects\"]:\n",
    "      preload_data[\"objects\"][obj[\"label\"]] = []\n",
    "    preload_data[\"objects\"][obj[\"label\"]].append(k)\n",
    "\n",
    "with open(OUTPUT_FILE_PATH, \"w\") as ofp:\n",
    "  json.dump(preload_data, ofp, separators=(\",\",\":\"), sort_keys=True, ensure_ascii=False)"
   ]
  },
  {
   "cell_type": "markdown",
   "metadata": {},
   "source": [
    "### Export cluster data"
   ]
  },
  {
   "cell_type": "code",
   "execution_count": null,
   "metadata": {},
   "outputs": [],
   "source": [
    "import json\n",
    "import numpy as np\n",
    "\n",
    "from sklearn.metrics import euclidean_distances\n",
    "from embeddings import tsne_kmeans\n",
    "\n",
    "INPUT_FILE_PATH = \"./metadata/json/20250515_embeddings.json\"\n",
    "OUTPUT_FILE_PATH = \"./metadata/json/20250515_clusters.json\"\n",
    "\n",
    "with open(INPUT_FILE_PATH, \"r\") as ifp:\n",
    "  data = json.load(ifp)\n",
    "\n",
    "ids = np.array(list(data.keys()))\n",
    "embeddings = np.array([v[\"clip\"] for v in data.values()])\n",
    "\n",
    "cluster_data = {}\n",
    "\n",
    "for n in [2,4,6,8,10,12,14,16]:\n",
    "  embs, clusters, centers = tsne_kmeans(embeddings, n_clusters=n)\n",
    "  cluster_distances = euclidean_distances(embs, centers)\n",
    "\n",
    "  i_c_d = zip(ids.tolist(), clusters.tolist(), cluster_distances.tolist())\n",
    "\n",
    "  cluster_data[n] = {id: {\"cluster\": c, \"distances\": [round(d,6) for d in ds]} for  id,c,ds in i_c_d}\n",
    "\n",
    "with open(OUTPUT_FILE_PATH, \"w\") as ofp:\n",
    "  json.dump(cluster_data, ofp, separators=(\",\",\":\"), sort_keys=True, ensure_ascii=False)"
   ]
  }
 ],
 "metadata": {
  "kernelspec": {
   "display_name": "ml",
   "language": "python",
   "name": "python3"
  },
  "language_info": {
   "codemirror_mode": {
    "name": "ipython",
    "version": 3
   },
   "file_extension": ".py",
   "mimetype": "text/x-python",
   "name": "python",
   "nbconvert_exporter": "python",
   "pygments_lexer": "ipython3",
   "version": "3.10.15"
  }
 },
 "nbformat": 4,
 "nbformat_minor": 2
}
